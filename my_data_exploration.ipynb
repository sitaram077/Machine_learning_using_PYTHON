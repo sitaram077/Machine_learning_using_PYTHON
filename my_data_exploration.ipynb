{
 "cells": [
  {
   "cell_type": "code",
   "execution_count": 1,
   "id": "initial_id",
   "metadata": {
    "collapsed": true,
    "ExecuteTime": {
     "end_time": "2024-03-17T04:40:43.009672Z",
     "start_time": "2024-03-17T04:40:43.005699Z"
    }
   },
   "outputs": [],
   "source": [
    "import pandas as pd \n",
    "url = 'http://archive.ics.uci.edu/ml/machine-learning-databases/autos/imports-85.data'"
   ]
  },
  {
   "cell_type": "code",
   "outputs": [
    {
     "name": "stdout",
     "output_type": "stream",
     "text": [
      "Collecting ucimlrepo\n",
      "  Downloading ucimlrepo-0.0.3-py3-none-any.whl.metadata (5.2 kB)\n",
      "Downloading ucimlrepo-0.0.3-py3-none-any.whl (7.0 kB)\n",
      "Installing collected packages: ucimlrepo\n",
      "Successfully installed ucimlrepo-0.0.3\n"
     ]
    }
   ],
   "source": [
    "!pip install ucimlrepo\n"
   ],
   "metadata": {
    "collapsed": false,
    "ExecuteTime": {
     "end_time": "2024-03-17T04:40:48.812706Z",
     "start_time": "2024-03-17T04:40:43.011061Z"
    }
   },
   "id": "a5e00fc19b9edf70",
   "execution_count": 2
  },
  {
   "cell_type": "code",
   "outputs": [
    {
     "name": "stdout",
     "output_type": "stream",
     "text": [
      "{'uci_id': 10, 'name': 'Automobile', 'repository_url': 'https://archive.ics.uci.edu/dataset/10/automobile', 'data_url': 'https://archive.ics.uci.edu/static/public/10/data.csv', 'abstract': \"From 1985 Ward's Automotive Yearbook\", 'area': 'Other', 'tasks': ['Regression'], 'characteristics': ['Multivariate'], 'num_instances': 205, 'num_features': 25, 'feature_types': ['Categorical', 'Integer', 'Real'], 'demographics': [], 'target_col': ['symboling'], 'index_col': None, 'has_missing_values': 'yes', 'missing_values_symbol': 'NaN', 'year_of_dataset_creation': 1985, 'last_updated': 'Thu Aug 10 2023', 'dataset_doi': '10.24432/C5B01C', 'creators': ['Jeffrey Schlimmer'], 'intro_paper': None, 'additional_info': {'summary': 'This data set consists of three types of entities: (a) the specification of an auto in terms of various characteristics, (b) its assigned insurance risk rating, (c) its normalized losses in use as compared to other cars.  The second rating corresponds to the degree to which the auto is more risky than its price indicates. Cars are initially assigned a risk factor symbol associated with its price.   Then, if it is more risky (or less), this symbol is adjusted by moving it up (or down) the scale.  Actuarians call this process \"symboling\".  A value of +3 indicates that the auto is risky, -3 that it is probably pretty safe.\\r\\n\\r\\nThe third factor is the relative average loss payment per insured vehicle year.  This value is normalized for all autos within a particular size classification (two-door small, station wagons, sports/speciality, etc...), and represents the average loss per car per year.\\r\\n\\r\\nNote: Several of the attributes in the database could be used as a \"class\" attribute.', 'purpose': None, 'funded_by': None, 'instances_represent': None, 'recommended_data_splits': None, 'sensitive_data': None, 'preprocessing_description': None, 'variable_info': 'Attribute: Attribute Range\\r\\n\\r\\n  1. symboling:                -3, -2, -1, 0, 1, 2, 3.\\r\\n  2. normalized-losses:        continuous from 65 to 256.\\r\\n  3. make:                     \\r\\n                               alfa-romero, audi, bmw, chevrolet, dodge, honda,\\r\\n                               isuzu, jaguar, mazda, mercedes-benz, mercury,\\r\\n                               mitsubishi, nissan, peugot, plymouth, porsche,\\r\\n                               renault, saab, subaru, toyota, volkswagen, volvo\\r\\n\\r\\n  4. fuel-type:                diesel, gas.\\r\\n  5. aspiration:               std, turbo.\\r\\n  6. num-of-doors:             four, two.\\r\\n  7. body-style:               hardtop, wagon, sedan, hatchback, convertible.\\r\\n  8. drive-wheels:             4wd, fwd, rwd.\\r\\n  9. engine-location:          front, rear.\\r\\n 10. wheel-base:               continuous from 86.6 120.9.\\r\\n 11. length:                   continuous from 141.1 to 208.1.\\r\\n 12. width:                    continuous from 60.3 to 72.3.\\r\\n 13. height:                   continuous from 47.8 to 59.8.\\r\\n 14. curb-weight:              continuous from 1488 to 4066.\\r\\n 15. engine-type:              dohc, dohcv, l, ohc, ohcf, ohcv, rotor.\\r\\n 16. num-of-cylinders:         eight, five, four, six, three, twelve, two.\\r\\n 17. engine-size:              continuous from 61 to 326.\\r\\n 18. fuel-system:              1bbl, 2bbl, 4bbl, idi, mfi, mpfi, spdi, spfi.\\r\\n 19. bore:                     continuous from 2.54 to 3.94.\\r\\n 20. stroke:                   continuous from 2.07 to 4.17.\\r\\n 21. compression-ratio:        continuous from 7 to 23.\\r\\n 22. horsepower:               continuous from 48 to 288.\\r\\n 23. peak-rpm:                 continuous from 4150 to 6600.\\r\\n 24. city-mpg:                 continuous from 13 to 49.\\r\\n 25. highway-mpg:              continuous from 16 to 54.\\r\\n 26. price:                    continuous from 5118 to 45400.', 'citation': None}}\n",
      "                 name     role         type demographic  \\\n",
      "0               price  Feature   Continuous        None   \n",
      "1         highway-mpg  Feature   Continuous        None   \n",
      "2            city-mpg  Feature   Continuous        None   \n",
      "3            peak-rpm  Feature   Continuous        None   \n",
      "4          horsepower  Feature   Continuous        None   \n",
      "5   compression-ratio  Feature   Continuous        None   \n",
      "6              stroke  Feature   Continuous        None   \n",
      "7                bore  Feature   Continuous        None   \n",
      "8         fuel-system  Feature  Categorical        None   \n",
      "9         engine-size  Feature   Continuous        None   \n",
      "10   num-of-cylinders  Feature      Integer        None   \n",
      "11        engine-type  Feature  Categorical        None   \n",
      "12        curb-weight  Feature   Continuous        None   \n",
      "13             height  Feature   Continuous        None   \n",
      "14              width  Feature   Continuous        None   \n",
      "15             length  Feature   Continuous        None   \n",
      "16         wheel-base  Feature   Continuous        None   \n",
      "17    engine-location  Feature       Binary        None   \n",
      "18       drive-wheels  Feature  Categorical        None   \n",
      "19         body-style  Feature  Categorical        None   \n",
      "20       num-of-doors  Feature      Integer        None   \n",
      "21         aspiration  Feature       Binary        None   \n",
      "22          fuel-type  Feature       Binary        None   \n",
      "23               make  Feature  Categorical        None   \n",
      "24  normalized-losses  Feature   Continuous        None   \n",
      "25          symboling   Target      Integer        None   \n",
      "\n",
      "                                          description units missing_values  \n",
      "0                       continuous from 5118 to 45400  None            yes  \n",
      "1                            continuous from 16 to 54  None             no  \n",
      "2                            continuous from 13 to 49  None             no  \n",
      "3                        continuous from 4150 to 6600  None            yes  \n",
      "4                           continuous from 48 to 288  None            yes  \n",
      "5                             continuous from 7 to 23  None             no  \n",
      "6                        continuous from 2.07 to 4.17  None            yes  \n",
      "7                        continuous from 2.54 to 3.94  None            yes  \n",
      "8        1bbl, 2bbl, 4bbl, idi, mfi, mpfi, spdi, spfi  None             no  \n",
      "9                           continuous from 61 to 326  None             no  \n",
      "10         eight, five, four, six, three, twelve, two  None             no  \n",
      "11             dohc, dohcv, l, ohc, ohcf, ohcv, rotor  None             no  \n",
      "12                       continuous from 1488 to 4066  None             no  \n",
      "13                       continuous from 47.8 to 59.8  None             no  \n",
      "14                       continuous from 60.3 to 72.3  None             no  \n",
      "15                     continuous from 141.1 to 208.1  None             no  \n",
      "16                         continuous from 86.6 120.9  None             no  \n",
      "17                                        front, rear  None             no  \n",
      "18                                      4wd, fwd, rwd  None             no  \n",
      "19      hardtop, wagon, sedan, hatchback, convertible  None             no  \n",
      "20                                          four, two  None            yes  \n",
      "21                                         std, turbo  None             no  \n",
      "22                                        diesel, gas  None             no  \n",
      "23  alfa-romero, audi, bmw, chevrolet, dodge, hond...  None             no  \n",
      "24                          continuous from 65 to 256  None            yes  \n",
      "25                             -3, -2, -1, 0, 1, 2, 3  None             no  \n"
     ]
    },
    {
     "data": {
      "text/plain": "     price  highway-mpg  city-mpg  peak-rpm  horsepower  compression-ratio  \\\n0  13495.0           27        21    5000.0       111.0                9.0   \n1  16500.0           27        21    5000.0       111.0                9.0   \n2  16500.0           26        19    5000.0       154.0                9.0   \n3  13950.0           30        24    5500.0       102.0               10.0   \n4  17450.0           22        18    5500.0       115.0                8.0   \n\n   stroke  bore fuel-system  engine-size  ...  length wheel-base  \\\n0    2.68  3.47        mpfi          130  ...   168.8       88.6   \n1    2.68  3.47        mpfi          130  ...   168.8       88.6   \n2    3.47  2.68        mpfi          152  ...   171.2       94.5   \n3    3.40  3.19        mpfi          109  ...   176.6       99.8   \n4    3.40  3.19        mpfi          136  ...   176.6       99.4   \n\n   engine-location  drive-wheels   body-style  num-of-doors  aspiration  \\\n0            front           rwd  convertible           2.0         std   \n1            front           rwd  convertible           2.0         std   \n2            front           rwd    hatchback           2.0         std   \n3            front           fwd        sedan           4.0         std   \n4            front           4wd        sedan           4.0         std   \n\n  fuel-type         make normalized-losses  \n0       gas  alfa-romero               NaN  \n1       gas  alfa-romero               NaN  \n2       gas  alfa-romero               NaN  \n3       gas         audi             164.0  \n4       gas         audi             164.0  \n\n[5 rows x 25 columns]",
      "text/html": "<div>\n<style scoped>\n    .dataframe tbody tr th:only-of-type {\n        vertical-align: middle;\n    }\n\n    .dataframe tbody tr th {\n        vertical-align: top;\n    }\n\n    .dataframe thead th {\n        text-align: right;\n    }\n</style>\n<table border=\"1\" class=\"dataframe\">\n  <thead>\n    <tr style=\"text-align: right;\">\n      <th></th>\n      <th>price</th>\n      <th>highway-mpg</th>\n      <th>city-mpg</th>\n      <th>peak-rpm</th>\n      <th>horsepower</th>\n      <th>compression-ratio</th>\n      <th>stroke</th>\n      <th>bore</th>\n      <th>fuel-system</th>\n      <th>engine-size</th>\n      <th>...</th>\n      <th>length</th>\n      <th>wheel-base</th>\n      <th>engine-location</th>\n      <th>drive-wheels</th>\n      <th>body-style</th>\n      <th>num-of-doors</th>\n      <th>aspiration</th>\n      <th>fuel-type</th>\n      <th>make</th>\n      <th>normalized-losses</th>\n    </tr>\n  </thead>\n  <tbody>\n    <tr>\n      <th>0</th>\n      <td>13495.0</td>\n      <td>27</td>\n      <td>21</td>\n      <td>5000.0</td>\n      <td>111.0</td>\n      <td>9.0</td>\n      <td>2.68</td>\n      <td>3.47</td>\n      <td>mpfi</td>\n      <td>130</td>\n      <td>...</td>\n      <td>168.8</td>\n      <td>88.6</td>\n      <td>front</td>\n      <td>rwd</td>\n      <td>convertible</td>\n      <td>2.0</td>\n      <td>std</td>\n      <td>gas</td>\n      <td>alfa-romero</td>\n      <td>NaN</td>\n    </tr>\n    <tr>\n      <th>1</th>\n      <td>16500.0</td>\n      <td>27</td>\n      <td>21</td>\n      <td>5000.0</td>\n      <td>111.0</td>\n      <td>9.0</td>\n      <td>2.68</td>\n      <td>3.47</td>\n      <td>mpfi</td>\n      <td>130</td>\n      <td>...</td>\n      <td>168.8</td>\n      <td>88.6</td>\n      <td>front</td>\n      <td>rwd</td>\n      <td>convertible</td>\n      <td>2.0</td>\n      <td>std</td>\n      <td>gas</td>\n      <td>alfa-romero</td>\n      <td>NaN</td>\n    </tr>\n    <tr>\n      <th>2</th>\n      <td>16500.0</td>\n      <td>26</td>\n      <td>19</td>\n      <td>5000.0</td>\n      <td>154.0</td>\n      <td>9.0</td>\n      <td>3.47</td>\n      <td>2.68</td>\n      <td>mpfi</td>\n      <td>152</td>\n      <td>...</td>\n      <td>171.2</td>\n      <td>94.5</td>\n      <td>front</td>\n      <td>rwd</td>\n      <td>hatchback</td>\n      <td>2.0</td>\n      <td>std</td>\n      <td>gas</td>\n      <td>alfa-romero</td>\n      <td>NaN</td>\n    </tr>\n    <tr>\n      <th>3</th>\n      <td>13950.0</td>\n      <td>30</td>\n      <td>24</td>\n      <td>5500.0</td>\n      <td>102.0</td>\n      <td>10.0</td>\n      <td>3.40</td>\n      <td>3.19</td>\n      <td>mpfi</td>\n      <td>109</td>\n      <td>...</td>\n      <td>176.6</td>\n      <td>99.8</td>\n      <td>front</td>\n      <td>fwd</td>\n      <td>sedan</td>\n      <td>4.0</td>\n      <td>std</td>\n      <td>gas</td>\n      <td>audi</td>\n      <td>164.0</td>\n    </tr>\n    <tr>\n      <th>4</th>\n      <td>17450.0</td>\n      <td>22</td>\n      <td>18</td>\n      <td>5500.0</td>\n      <td>115.0</td>\n      <td>8.0</td>\n      <td>3.40</td>\n      <td>3.19</td>\n      <td>mpfi</td>\n      <td>136</td>\n      <td>...</td>\n      <td>176.6</td>\n      <td>99.4</td>\n      <td>front</td>\n      <td>4wd</td>\n      <td>sedan</td>\n      <td>4.0</td>\n      <td>std</td>\n      <td>gas</td>\n      <td>audi</td>\n      <td>164.0</td>\n    </tr>\n  </tbody>\n</table>\n<p>5 rows × 25 columns</p>\n</div>"
     },
     "execution_count": 22,
     "metadata": {},
     "output_type": "execute_result"
    }
   ],
   "source": [
    "from ucimlrepo import fetch_ucirepo \n",
    "  \n",
    "# fetch dataset \n",
    "automobile = fetch_ucirepo(id=10) \n",
    "  \n",
    "# data (as pandas dataframes) \n",
    "X = automobile.data.features \n",
    "y = automobile.data.targets \n",
    "  \n",
    "# metadata \n",
    "print(automobile.metadata) \n",
    "  \n",
    "# variable information \n",
    "print(automobile.variables) \n",
    "X.head()"
   ],
   "metadata": {
    "collapsed": false,
    "ExecuteTime": {
     "end_time": "2024-03-17T04:43:52.517228Z",
     "start_time": "2024-03-17T04:43:49.422911Z"
    }
   },
   "id": "e0eb85e1a5ecbd55",
   "execution_count": 22
  },
  {
   "cell_type": "code",
   "outputs": [
    {
     "data": {
      "text/plain": "   3    ?  alfa-romero  gas  std   two  convertible  rwd  front  88.60  ...  \\\n0  3    ?  alfa-romero  gas  std   two  convertible  rwd  front   88.6  ...   \n1  1    ?  alfa-romero  gas  std   two    hatchback  rwd  front   94.5  ...   \n2  2  164         audi  gas  std  four        sedan  fwd  front   99.8  ...   \n3  2  164         audi  gas  std  four        sedan  4wd  front   99.4  ...   \n4  2    ?         audi  gas  std   two        sedan  fwd  front   99.8  ...   \n\n   130  mpfi  3.47  2.68  9.00  111  5000  21  27  13495  \n0  130  mpfi  3.47  2.68   9.0  111  5000  21  27  16500  \n1  152  mpfi  2.68  3.47   9.0  154  5000  19  26  16500  \n2  109  mpfi  3.19  3.40  10.0  102  5500  24  30  13950  \n3  136  mpfi  3.19  3.40   8.0  115  5500  18  22  17450  \n4  136  mpfi  3.19  3.40   8.5  110  5500  19  25  15250  \n\n[5 rows x 26 columns]",
      "text/html": "<div>\n<style scoped>\n    .dataframe tbody tr th:only-of-type {\n        vertical-align: middle;\n    }\n\n    .dataframe tbody tr th {\n        vertical-align: top;\n    }\n\n    .dataframe thead th {\n        text-align: right;\n    }\n</style>\n<table border=\"1\" class=\"dataframe\">\n  <thead>\n    <tr style=\"text-align: right;\">\n      <th></th>\n      <th>3</th>\n      <th>?</th>\n      <th>alfa-romero</th>\n      <th>gas</th>\n      <th>std</th>\n      <th>two</th>\n      <th>convertible</th>\n      <th>rwd</th>\n      <th>front</th>\n      <th>88.60</th>\n      <th>...</th>\n      <th>130</th>\n      <th>mpfi</th>\n      <th>3.47</th>\n      <th>2.68</th>\n      <th>9.00</th>\n      <th>111</th>\n      <th>5000</th>\n      <th>21</th>\n      <th>27</th>\n      <th>13495</th>\n    </tr>\n  </thead>\n  <tbody>\n    <tr>\n      <th>0</th>\n      <td>3</td>\n      <td>?</td>\n      <td>alfa-romero</td>\n      <td>gas</td>\n      <td>std</td>\n      <td>two</td>\n      <td>convertible</td>\n      <td>rwd</td>\n      <td>front</td>\n      <td>88.6</td>\n      <td>...</td>\n      <td>130</td>\n      <td>mpfi</td>\n      <td>3.47</td>\n      <td>2.68</td>\n      <td>9.0</td>\n      <td>111</td>\n      <td>5000</td>\n      <td>21</td>\n      <td>27</td>\n      <td>16500</td>\n    </tr>\n    <tr>\n      <th>1</th>\n      <td>1</td>\n      <td>?</td>\n      <td>alfa-romero</td>\n      <td>gas</td>\n      <td>std</td>\n      <td>two</td>\n      <td>hatchback</td>\n      <td>rwd</td>\n      <td>front</td>\n      <td>94.5</td>\n      <td>...</td>\n      <td>152</td>\n      <td>mpfi</td>\n      <td>2.68</td>\n      <td>3.47</td>\n      <td>9.0</td>\n      <td>154</td>\n      <td>5000</td>\n      <td>19</td>\n      <td>26</td>\n      <td>16500</td>\n    </tr>\n    <tr>\n      <th>2</th>\n      <td>2</td>\n      <td>164</td>\n      <td>audi</td>\n      <td>gas</td>\n      <td>std</td>\n      <td>four</td>\n      <td>sedan</td>\n      <td>fwd</td>\n      <td>front</td>\n      <td>99.8</td>\n      <td>...</td>\n      <td>109</td>\n      <td>mpfi</td>\n      <td>3.19</td>\n      <td>3.40</td>\n      <td>10.0</td>\n      <td>102</td>\n      <td>5500</td>\n      <td>24</td>\n      <td>30</td>\n      <td>13950</td>\n    </tr>\n    <tr>\n      <th>3</th>\n      <td>2</td>\n      <td>164</td>\n      <td>audi</td>\n      <td>gas</td>\n      <td>std</td>\n      <td>four</td>\n      <td>sedan</td>\n      <td>4wd</td>\n      <td>front</td>\n      <td>99.4</td>\n      <td>...</td>\n      <td>136</td>\n      <td>mpfi</td>\n      <td>3.19</td>\n      <td>3.40</td>\n      <td>8.0</td>\n      <td>115</td>\n      <td>5500</td>\n      <td>18</td>\n      <td>22</td>\n      <td>17450</td>\n    </tr>\n    <tr>\n      <th>4</th>\n      <td>2</td>\n      <td>?</td>\n      <td>audi</td>\n      <td>gas</td>\n      <td>std</td>\n      <td>two</td>\n      <td>sedan</td>\n      <td>fwd</td>\n      <td>front</td>\n      <td>99.8</td>\n      <td>...</td>\n      <td>136</td>\n      <td>mpfi</td>\n      <td>3.19</td>\n      <td>3.40</td>\n      <td>8.5</td>\n      <td>110</td>\n      <td>5500</td>\n      <td>19</td>\n      <td>25</td>\n      <td>15250</td>\n    </tr>\n  </tbody>\n</table>\n<p>5 rows × 26 columns</p>\n</div>"
     },
     "execution_count": 3,
     "metadata": {},
     "output_type": "execute_result"
    }
   ],
   "source": [
    "df_2=pd.read_csv('imports-85.data')\n",
    "df_2.head()"
   ],
   "metadata": {
    "collapsed": false,
    "ExecuteTime": {
     "end_time": "2024-03-17T04:40:48.890340Z",
     "start_time": "2024-03-17T04:40:48.815708Z"
    }
   },
   "id": "f50663ad07bd9cbb",
   "execution_count": 3
  },
  {
   "cell_type": "code",
   "outputs": [
    {
     "name": "stdout",
     "output_type": "stream",
     "text": [
      "^C\n"
     ]
    }
   ],
   "source": [
    "!pip install pandas"
   ],
   "metadata": {
    "collapsed": false,
    "ExecuteTime": {
     "end_time": "2024-03-17T04:40:49.269192Z",
     "start_time": "2024-03-17T04:40:48.891347Z"
    }
   },
   "id": "c9b673bf17a78915",
   "execution_count": 4
  },
  {
   "cell_type": "code",
   "outputs": [
    {
     "name": "stdout",
     "output_type": "stream",
     "text": [
      "hello\n"
     ]
    }
   ],
   "source": [
    "print('hello')"
   ],
   "metadata": {
    "collapsed": false,
    "ExecuteTime": {
     "end_time": "2024-03-17T04:40:49.278232Z",
     "start_time": "2024-03-17T04:40:49.272200Z"
    }
   },
   "id": "a3194f9edf28a5de",
   "execution_count": 5
  },
  {
   "cell_type": "markdown",
   "source": [],
   "metadata": {
    "collapsed": false
   },
   "id": "683e91a8a0d04cc6"
  },
  {
   "cell_type": "code",
   "outputs": [
    {
     "name": "stdout",
     "output_type": "stream",
     "text": [
      "Requirement already satisfied: pandas in c:\\users\\sitar\\pycharmprojects\\eda_basics\\.venv\\lib\\site-packages (2.2.1)\n",
      "Requirement already satisfied: numpy<2,>=1.26.0 in c:\\users\\sitar\\pycharmprojects\\eda_basics\\.venv\\lib\\site-packages (from pandas) (1.26.4)\n",
      "Requirement already satisfied: python-dateutil>=2.8.2 in c:\\users\\sitar\\pycharmprojects\\eda_basics\\.venv\\lib\\site-packages (from pandas) (2.9.0.post0)\n",
      "Requirement already satisfied: pytz>=2020.1 in c:\\users\\sitar\\pycharmprojects\\eda_basics\\.venv\\lib\\site-packages (from pandas) (2024.1)\n",
      "Requirement already satisfied: tzdata>=2022.7 in c:\\users\\sitar\\pycharmprojects\\eda_basics\\.venv\\lib\\site-packages (from pandas) (2024.1)\n",
      "Requirement already satisfied: six>=1.5 in c:\\users\\sitar\\pycharmprojects\\eda_basics\\.venv\\lib\\site-packages (from python-dateutil>=2.8.2->pandas) (1.16.0)\n"
     ]
    }
   ],
   "source": [
    "!pip install pandas"
   ],
   "metadata": {
    "collapsed": false,
    "ExecuteTime": {
     "end_time": "2024-03-17T04:40:52.589602Z",
     "start_time": "2024-03-17T04:40:49.282322Z"
    }
   },
   "id": "e62c81adc18753d6",
   "execution_count": 6
  },
  {
   "cell_type": "code",
   "outputs": [],
   "source": [
    "df=pd.read_csv(url)"
   ],
   "metadata": {
    "collapsed": false,
    "ExecuteTime": {
     "end_time": "2024-03-17T04:40:54.240361Z",
     "start_time": "2024-03-17T04:40:52.591966Z"
    }
   },
   "id": "c5c356b591deb91",
   "execution_count": 7
  },
  {
   "cell_type": "code",
   "outputs": [
    {
     "data": {
      "text/plain": "   3    ?  alfa-romero  gas  std   two  convertible  rwd  front  88.60  ...  \\\n0  3    ?  alfa-romero  gas  std   two  convertible  rwd  front   88.6  ...   \n1  1    ?  alfa-romero  gas  std   two    hatchback  rwd  front   94.5  ...   \n2  2  164         audi  gas  std  four        sedan  fwd  front   99.8  ...   \n3  2  164         audi  gas  std  four        sedan  4wd  front   99.4  ...   \n4  2    ?         audi  gas  std   two        sedan  fwd  front   99.8  ...   \n\n   130  mpfi  3.47  2.68  9.00  111  5000  21  27  13495  \n0  130  mpfi  3.47  2.68   9.0  111  5000  21  27  16500  \n1  152  mpfi  2.68  3.47   9.0  154  5000  19  26  16500  \n2  109  mpfi  3.19  3.40  10.0  102  5500  24  30  13950  \n3  136  mpfi  3.19  3.40   8.0  115  5500  18  22  17450  \n4  136  mpfi  3.19  3.40   8.5  110  5500  19  25  15250  \n\n[5 rows x 26 columns]",
      "text/html": "<div>\n<style scoped>\n    .dataframe tbody tr th:only-of-type {\n        vertical-align: middle;\n    }\n\n    .dataframe tbody tr th {\n        vertical-align: top;\n    }\n\n    .dataframe thead th {\n        text-align: right;\n    }\n</style>\n<table border=\"1\" class=\"dataframe\">\n  <thead>\n    <tr style=\"text-align: right;\">\n      <th></th>\n      <th>3</th>\n      <th>?</th>\n      <th>alfa-romero</th>\n      <th>gas</th>\n      <th>std</th>\n      <th>two</th>\n      <th>convertible</th>\n      <th>rwd</th>\n      <th>front</th>\n      <th>88.60</th>\n      <th>...</th>\n      <th>130</th>\n      <th>mpfi</th>\n      <th>3.47</th>\n      <th>2.68</th>\n      <th>9.00</th>\n      <th>111</th>\n      <th>5000</th>\n      <th>21</th>\n      <th>27</th>\n      <th>13495</th>\n    </tr>\n  </thead>\n  <tbody>\n    <tr>\n      <th>0</th>\n      <td>3</td>\n      <td>?</td>\n      <td>alfa-romero</td>\n      <td>gas</td>\n      <td>std</td>\n      <td>two</td>\n      <td>convertible</td>\n      <td>rwd</td>\n      <td>front</td>\n      <td>88.6</td>\n      <td>...</td>\n      <td>130</td>\n      <td>mpfi</td>\n      <td>3.47</td>\n      <td>2.68</td>\n      <td>9.0</td>\n      <td>111</td>\n      <td>5000</td>\n      <td>21</td>\n      <td>27</td>\n      <td>16500</td>\n    </tr>\n    <tr>\n      <th>1</th>\n      <td>1</td>\n      <td>?</td>\n      <td>alfa-romero</td>\n      <td>gas</td>\n      <td>std</td>\n      <td>two</td>\n      <td>hatchback</td>\n      <td>rwd</td>\n      <td>front</td>\n      <td>94.5</td>\n      <td>...</td>\n      <td>152</td>\n      <td>mpfi</td>\n      <td>2.68</td>\n      <td>3.47</td>\n      <td>9.0</td>\n      <td>154</td>\n      <td>5000</td>\n      <td>19</td>\n      <td>26</td>\n      <td>16500</td>\n    </tr>\n    <tr>\n      <th>2</th>\n      <td>2</td>\n      <td>164</td>\n      <td>audi</td>\n      <td>gas</td>\n      <td>std</td>\n      <td>four</td>\n      <td>sedan</td>\n      <td>fwd</td>\n      <td>front</td>\n      <td>99.8</td>\n      <td>...</td>\n      <td>109</td>\n      <td>mpfi</td>\n      <td>3.19</td>\n      <td>3.40</td>\n      <td>10.0</td>\n      <td>102</td>\n      <td>5500</td>\n      <td>24</td>\n      <td>30</td>\n      <td>13950</td>\n    </tr>\n    <tr>\n      <th>3</th>\n      <td>2</td>\n      <td>164</td>\n      <td>audi</td>\n      <td>gas</td>\n      <td>std</td>\n      <td>four</td>\n      <td>sedan</td>\n      <td>4wd</td>\n      <td>front</td>\n      <td>99.4</td>\n      <td>...</td>\n      <td>136</td>\n      <td>mpfi</td>\n      <td>3.19</td>\n      <td>3.40</td>\n      <td>8.0</td>\n      <td>115</td>\n      <td>5500</td>\n      <td>18</td>\n      <td>22</td>\n      <td>17450</td>\n    </tr>\n    <tr>\n      <th>4</th>\n      <td>2</td>\n      <td>?</td>\n      <td>audi</td>\n      <td>gas</td>\n      <td>std</td>\n      <td>two</td>\n      <td>sedan</td>\n      <td>fwd</td>\n      <td>front</td>\n      <td>99.8</td>\n      <td>...</td>\n      <td>136</td>\n      <td>mpfi</td>\n      <td>3.19</td>\n      <td>3.40</td>\n      <td>8.5</td>\n      <td>110</td>\n      <td>5500</td>\n      <td>19</td>\n      <td>25</td>\n      <td>15250</td>\n    </tr>\n  </tbody>\n</table>\n<p>5 rows × 26 columns</p>\n</div>"
     },
     "execution_count": 8,
     "metadata": {},
     "output_type": "execute_result"
    }
   ],
   "source": [
    "df.head()"
   ],
   "metadata": {
    "collapsed": false,
    "ExecuteTime": {
     "end_time": "2024-03-17T04:40:54.269518Z",
     "start_time": "2024-03-17T04:40:54.241802Z"
    }
   },
   "id": "3294e76949114ccf",
   "execution_count": 8
  },
  {
   "cell_type": "code",
   "outputs": [
    {
     "data": {
      "text/plain": "3                int64\n?               object\nalfa-romero     object\ngas             object\nstd             object\ntwo             object\nconvertible     object\nrwd             object\nfront           object\n88.60          float64\n168.80         float64\n64.10          float64\n48.80          float64\n2548             int64\ndohc            object\nfour            object\n130              int64\nmpfi            object\n3.47            object\n2.68            object\n9.00           float64\n111             object\n5000            object\n21               int64\n27               int64\n13495           object\ndtype: object"
     },
     "execution_count": 9,
     "metadata": {},
     "output_type": "execute_result"
    }
   ],
   "source": [
    "df.dtypes"
   ],
   "metadata": {
    "collapsed": false,
    "ExecuteTime": {
     "end_time": "2024-03-17T04:40:54.280225Z",
     "start_time": "2024-03-17T04:40:54.271546Z"
    }
   },
   "id": "85f1e41fec6db5bf",
   "execution_count": 9
  },
  {
   "cell_type": "code",
   "outputs": [
    {
     "data": {
      "text/plain": "<bound method NDFrame.describe of      3    ?  alfa-romero     gas    std   two  convertible  rwd  front  88.60  \\\n0    3    ?  alfa-romero     gas    std   two  convertible  rwd  front   88.6   \n1    1    ?  alfa-romero     gas    std   two    hatchback  rwd  front   94.5   \n2    2  164         audi     gas    std  four        sedan  fwd  front   99.8   \n3    2  164         audi     gas    std  four        sedan  4wd  front   99.4   \n4    2    ?         audi     gas    std   two        sedan  fwd  front   99.8   \n..  ..  ...          ...     ...    ...   ...          ...  ...    ...    ...   \n199 -1   95        volvo     gas    std  four        sedan  rwd  front  109.1   \n200 -1   95        volvo     gas  turbo  four        sedan  rwd  front  109.1   \n201 -1   95        volvo     gas    std  four        sedan  rwd  front  109.1   \n202 -1   95        volvo  diesel  turbo  four        sedan  rwd  front  109.1   \n203 -1   95        volvo     gas  turbo  four        sedan  rwd  front  109.1   \n\n     ...  130  mpfi  3.47  2.68  9.00  111  5000  21  27  13495  \n0    ...  130  mpfi  3.47  2.68   9.0  111  5000  21  27  16500  \n1    ...  152  mpfi  2.68  3.47   9.0  154  5000  19  26  16500  \n2    ...  109  mpfi  3.19  3.40  10.0  102  5500  24  30  13950  \n3    ...  136  mpfi  3.19  3.40   8.0  115  5500  18  22  17450  \n4    ...  136  mpfi  3.19  3.40   8.5  110  5500  19  25  15250  \n..   ...  ...   ...   ...   ...   ...  ...   ...  ..  ..    ...  \n199  ...  141  mpfi  3.78  3.15   9.5  114  5400  23  28  16845  \n200  ...  141  mpfi  3.78  3.15   8.7  160  5300  19  25  19045  \n201  ...  173  mpfi  3.58  2.87   8.8  134  5500  18  23  21485  \n202  ...  145   idi  3.01  3.40  23.0  106  4800  26  27  22470  \n203  ...  141  mpfi  3.78  3.15   9.5  114  5400  19  25  22625  \n\n[204 rows x 26 columns]>"
     },
     "execution_count": 10,
     "metadata": {},
     "output_type": "execute_result"
    }
   ],
   "source": [
    "df.describe"
   ],
   "metadata": {
    "collapsed": false,
    "ExecuteTime": {
     "end_time": "2024-03-17T04:40:54.304821Z",
     "start_time": "2024-03-17T04:40:54.283233Z"
    }
   },
   "id": "508297373b42cef0",
   "execution_count": 10
  },
  {
   "cell_type": "code",
   "outputs": [],
   "source": [
    "df.dropna(subset=['5000'],inplace=True,axis=0)"
   ],
   "metadata": {
    "collapsed": false,
    "ExecuteTime": {
     "end_time": "2024-03-17T04:40:54.319220Z",
     "start_time": "2024-03-17T04:40:54.309927Z"
    }
   },
   "id": "7bdbaa423c11c1f9",
   "execution_count": 11
  },
  {
   "cell_type": "code",
   "outputs": [
    {
     "data": {
      "text/plain": "0      130\n1      152\n2      109\n3      136\n4      136\n      ... \n199    141\n200    141\n201    173\n202    145\n203    141\nName: 130, Length: 204, dtype: int64"
     },
     "execution_count": 12,
     "metadata": {},
     "output_type": "execute_result"
    }
   ],
   "source": [
    "import numpy as np\n",
    "mean=df['130'].mean()\n",
    "df['130'].replace(np.nan,mean)"
   ],
   "metadata": {
    "collapsed": false,
    "ExecuteTime": {
     "end_time": "2024-03-17T04:40:54.332604Z",
     "start_time": "2024-03-17T04:40:54.320269Z"
    }
   },
   "id": "46572cf0a4701f62",
   "execution_count": 12
  },
  {
   "cell_type": "code",
   "outputs": [],
   "source": [
    "df['21']=235/df['21']# coverting the miles per gallons to kms for 100 liters"
   ],
   "metadata": {
    "collapsed": false,
    "ExecuteTime": {
     "end_time": "2024-03-17T04:40:54.348252Z",
     "start_time": "2024-03-17T04:40:54.333614Z"
    }
   },
   "id": "1a993427dd357e71",
   "execution_count": 13
  },
  {
   "cell_type": "code",
   "outputs": [
    {
     "data": {
      "text/plain": "     3    ?  alfa-romero     gas    std   two  convertible  rwd  front  88.60  \\\n0    3    ?  alfa-romero     gas    std   two  convertible  rwd  front   88.6   \n1    1    ?  alfa-romero     gas    std   two    hatchback  rwd  front   94.5   \n2    2  164         audi     gas    std  four        sedan  fwd  front   99.8   \n3    2  164         audi     gas    std  four        sedan  4wd  front   99.4   \n4    2    ?         audi     gas    std   two        sedan  fwd  front   99.8   \n..  ..  ...          ...     ...    ...   ...          ...  ...    ...    ...   \n199 -1   95        volvo     gas    std  four        sedan  rwd  front  109.1   \n200 -1   95        volvo     gas  turbo  four        sedan  rwd  front  109.1   \n201 -1   95        volvo     gas    std  four        sedan  rwd  front  109.1   \n202 -1   95        volvo  diesel  turbo  four        sedan  rwd  front  109.1   \n203 -1   95        volvo     gas  turbo  four        sedan  rwd  front  109.1   \n\n     ...  130  mpfi  3.47  2.68  9.00  111  5000 city-L/100L  27  13495  \n0    ...  130  mpfi  3.47  2.68   9.0  111  5000   11.190476  27  16500  \n1    ...  152  mpfi  2.68  3.47   9.0  154  5000   12.368421  26  16500  \n2    ...  109  mpfi  3.19  3.40  10.0  102  5500    9.791667  30  13950  \n3    ...  136  mpfi  3.19  3.40   8.0  115  5500   13.055556  22  17450  \n4    ...  136  mpfi  3.19  3.40   8.5  110  5500   12.368421  25  15250  \n..   ...  ...   ...   ...   ...   ...  ...   ...         ...  ..    ...  \n199  ...  141  mpfi  3.78  3.15   9.5  114  5400   10.217391  28  16845  \n200  ...  141  mpfi  3.78  3.15   8.7  160  5300   12.368421  25  19045  \n201  ...  173  mpfi  3.58  2.87   8.8  134  5500   13.055556  23  21485  \n202  ...  145   idi  3.01  3.40  23.0  106  4800    9.038462  27  22470  \n203  ...  141  mpfi  3.78  3.15   9.5  114  5400   12.368421  25  22625  \n\n[204 rows x 26 columns]",
      "text/html": "<div>\n<style scoped>\n    .dataframe tbody tr th:only-of-type {\n        vertical-align: middle;\n    }\n\n    .dataframe tbody tr th {\n        vertical-align: top;\n    }\n\n    .dataframe thead th {\n        text-align: right;\n    }\n</style>\n<table border=\"1\" class=\"dataframe\">\n  <thead>\n    <tr style=\"text-align: right;\">\n      <th></th>\n      <th>3</th>\n      <th>?</th>\n      <th>alfa-romero</th>\n      <th>gas</th>\n      <th>std</th>\n      <th>two</th>\n      <th>convertible</th>\n      <th>rwd</th>\n      <th>front</th>\n      <th>88.60</th>\n      <th>...</th>\n      <th>130</th>\n      <th>mpfi</th>\n      <th>3.47</th>\n      <th>2.68</th>\n      <th>9.00</th>\n      <th>111</th>\n      <th>5000</th>\n      <th>city-L/100L</th>\n      <th>27</th>\n      <th>13495</th>\n    </tr>\n  </thead>\n  <tbody>\n    <tr>\n      <th>0</th>\n      <td>3</td>\n      <td>?</td>\n      <td>alfa-romero</td>\n      <td>gas</td>\n      <td>std</td>\n      <td>two</td>\n      <td>convertible</td>\n      <td>rwd</td>\n      <td>front</td>\n      <td>88.6</td>\n      <td>...</td>\n      <td>130</td>\n      <td>mpfi</td>\n      <td>3.47</td>\n      <td>2.68</td>\n      <td>9.0</td>\n      <td>111</td>\n      <td>5000</td>\n      <td>11.190476</td>\n      <td>27</td>\n      <td>16500</td>\n    </tr>\n    <tr>\n      <th>1</th>\n      <td>1</td>\n      <td>?</td>\n      <td>alfa-romero</td>\n      <td>gas</td>\n      <td>std</td>\n      <td>two</td>\n      <td>hatchback</td>\n      <td>rwd</td>\n      <td>front</td>\n      <td>94.5</td>\n      <td>...</td>\n      <td>152</td>\n      <td>mpfi</td>\n      <td>2.68</td>\n      <td>3.47</td>\n      <td>9.0</td>\n      <td>154</td>\n      <td>5000</td>\n      <td>12.368421</td>\n      <td>26</td>\n      <td>16500</td>\n    </tr>\n    <tr>\n      <th>2</th>\n      <td>2</td>\n      <td>164</td>\n      <td>audi</td>\n      <td>gas</td>\n      <td>std</td>\n      <td>four</td>\n      <td>sedan</td>\n      <td>fwd</td>\n      <td>front</td>\n      <td>99.8</td>\n      <td>...</td>\n      <td>109</td>\n      <td>mpfi</td>\n      <td>3.19</td>\n      <td>3.40</td>\n      <td>10.0</td>\n      <td>102</td>\n      <td>5500</td>\n      <td>9.791667</td>\n      <td>30</td>\n      <td>13950</td>\n    </tr>\n    <tr>\n      <th>3</th>\n      <td>2</td>\n      <td>164</td>\n      <td>audi</td>\n      <td>gas</td>\n      <td>std</td>\n      <td>four</td>\n      <td>sedan</td>\n      <td>4wd</td>\n      <td>front</td>\n      <td>99.4</td>\n      <td>...</td>\n      <td>136</td>\n      <td>mpfi</td>\n      <td>3.19</td>\n      <td>3.40</td>\n      <td>8.0</td>\n      <td>115</td>\n      <td>5500</td>\n      <td>13.055556</td>\n      <td>22</td>\n      <td>17450</td>\n    </tr>\n    <tr>\n      <th>4</th>\n      <td>2</td>\n      <td>?</td>\n      <td>audi</td>\n      <td>gas</td>\n      <td>std</td>\n      <td>two</td>\n      <td>sedan</td>\n      <td>fwd</td>\n      <td>front</td>\n      <td>99.8</td>\n      <td>...</td>\n      <td>136</td>\n      <td>mpfi</td>\n      <td>3.19</td>\n      <td>3.40</td>\n      <td>8.5</td>\n      <td>110</td>\n      <td>5500</td>\n      <td>12.368421</td>\n      <td>25</td>\n      <td>15250</td>\n    </tr>\n    <tr>\n      <th>...</th>\n      <td>...</td>\n      <td>...</td>\n      <td>...</td>\n      <td>...</td>\n      <td>...</td>\n      <td>...</td>\n      <td>...</td>\n      <td>...</td>\n      <td>...</td>\n      <td>...</td>\n      <td>...</td>\n      <td>...</td>\n      <td>...</td>\n      <td>...</td>\n      <td>...</td>\n      <td>...</td>\n      <td>...</td>\n      <td>...</td>\n      <td>...</td>\n      <td>...</td>\n      <td>...</td>\n    </tr>\n    <tr>\n      <th>199</th>\n      <td>-1</td>\n      <td>95</td>\n      <td>volvo</td>\n      <td>gas</td>\n      <td>std</td>\n      <td>four</td>\n      <td>sedan</td>\n      <td>rwd</td>\n      <td>front</td>\n      <td>109.1</td>\n      <td>...</td>\n      <td>141</td>\n      <td>mpfi</td>\n      <td>3.78</td>\n      <td>3.15</td>\n      <td>9.5</td>\n      <td>114</td>\n      <td>5400</td>\n      <td>10.217391</td>\n      <td>28</td>\n      <td>16845</td>\n    </tr>\n    <tr>\n      <th>200</th>\n      <td>-1</td>\n      <td>95</td>\n      <td>volvo</td>\n      <td>gas</td>\n      <td>turbo</td>\n      <td>four</td>\n      <td>sedan</td>\n      <td>rwd</td>\n      <td>front</td>\n      <td>109.1</td>\n      <td>...</td>\n      <td>141</td>\n      <td>mpfi</td>\n      <td>3.78</td>\n      <td>3.15</td>\n      <td>8.7</td>\n      <td>160</td>\n      <td>5300</td>\n      <td>12.368421</td>\n      <td>25</td>\n      <td>19045</td>\n    </tr>\n    <tr>\n      <th>201</th>\n      <td>-1</td>\n      <td>95</td>\n      <td>volvo</td>\n      <td>gas</td>\n      <td>std</td>\n      <td>four</td>\n      <td>sedan</td>\n      <td>rwd</td>\n      <td>front</td>\n      <td>109.1</td>\n      <td>...</td>\n      <td>173</td>\n      <td>mpfi</td>\n      <td>3.58</td>\n      <td>2.87</td>\n      <td>8.8</td>\n      <td>134</td>\n      <td>5500</td>\n      <td>13.055556</td>\n      <td>23</td>\n      <td>21485</td>\n    </tr>\n    <tr>\n      <th>202</th>\n      <td>-1</td>\n      <td>95</td>\n      <td>volvo</td>\n      <td>diesel</td>\n      <td>turbo</td>\n      <td>four</td>\n      <td>sedan</td>\n      <td>rwd</td>\n      <td>front</td>\n      <td>109.1</td>\n      <td>...</td>\n      <td>145</td>\n      <td>idi</td>\n      <td>3.01</td>\n      <td>3.40</td>\n      <td>23.0</td>\n      <td>106</td>\n      <td>4800</td>\n      <td>9.038462</td>\n      <td>27</td>\n      <td>22470</td>\n    </tr>\n    <tr>\n      <th>203</th>\n      <td>-1</td>\n      <td>95</td>\n      <td>volvo</td>\n      <td>gas</td>\n      <td>turbo</td>\n      <td>four</td>\n      <td>sedan</td>\n      <td>rwd</td>\n      <td>front</td>\n      <td>109.1</td>\n      <td>...</td>\n      <td>141</td>\n      <td>mpfi</td>\n      <td>3.78</td>\n      <td>3.15</td>\n      <td>9.5</td>\n      <td>114</td>\n      <td>5400</td>\n      <td>12.368421</td>\n      <td>25</td>\n      <td>22625</td>\n    </tr>\n  </tbody>\n</table>\n<p>204 rows × 26 columns</p>\n</div>"
     },
     "execution_count": 14,
     "metadata": {},
     "output_type": "execute_result"
    }
   ],
   "source": [
    "df.rename(columns={'21':'city-L/100L'})"
   ],
   "metadata": {
    "collapsed": false,
    "ExecuteTime": {
     "end_time": "2024-03-17T04:40:54.375381Z",
     "start_time": "2024-03-17T04:40:54.349417Z"
    }
   },
   "id": "f8c8e072b1fce414",
   "execution_count": 14
  },
  {
   "cell_type": "code",
   "outputs": [
    {
     "data": {
      "text/plain": "     3    ?  alfa-romero     gas    std   two  convertible  rwd  front  88.60  \\\n0    3    ?  alfa-romero     gas    std   two  convertible  rwd  front   88.6   \n1    1    ?  alfa-romero     gas    std   two    hatchback  rwd  front   94.5   \n2    2  164         audi     gas    std  four        sedan  fwd  front   99.8   \n3    2  164         audi     gas    std  four        sedan  4wd  front   99.4   \n4    2    ?         audi     gas    std   two        sedan  fwd  front   99.8   \n..  ..  ...          ...     ...    ...   ...          ...  ...    ...    ...   \n199 -1   95        volvo     gas    std  four        sedan  rwd  front  109.1   \n200 -1   95        volvo     gas  turbo  four        sedan  rwd  front  109.1   \n201 -1   95        volvo     gas    std  four        sedan  rwd  front  109.1   \n202 -1   95        volvo  diesel  turbo  four        sedan  rwd  front  109.1   \n203 -1   95        volvo     gas  turbo  four        sedan  rwd  front  109.1   \n\n     ...  130  mpfi  3.47  2.68  9.00  111  5000         21  27  13495  \n0    ...  130  mpfi  3.47  2.68   9.0  111  5000  11.190476  27  16500  \n1    ...  152  mpfi  2.68  3.47   9.0  154  5000  12.368421  26  16500  \n2    ...  109  mpfi  3.19  3.40  10.0  102  5500   9.791667  30  13950  \n3    ...  136  mpfi  3.19  3.40   8.0  115  5500  13.055556  22  17450  \n4    ...  136  mpfi  3.19  3.40   8.5  110  5500  12.368421  25  15250  \n..   ...  ...   ...   ...   ...   ...  ...   ...        ...  ..    ...  \n199  ...  141  mpfi  3.78  3.15   9.5  114  5400  10.217391  28  16845  \n200  ...  141  mpfi  3.78  3.15   8.7  160  5300  12.368421  25  19045  \n201  ...  173  mpfi  3.58  2.87   8.8  134  5500  13.055556  23  21485  \n202  ...  145   idi  3.01  3.40  23.0  106  4800   9.038462  27  22470  \n203  ...  141  mpfi  3.78  3.15   9.5  114  5400  12.368421  25  22625  \n\n[204 rows x 26 columns]",
      "text/html": "<div>\n<style scoped>\n    .dataframe tbody tr th:only-of-type {\n        vertical-align: middle;\n    }\n\n    .dataframe tbody tr th {\n        vertical-align: top;\n    }\n\n    .dataframe thead th {\n        text-align: right;\n    }\n</style>\n<table border=\"1\" class=\"dataframe\">\n  <thead>\n    <tr style=\"text-align: right;\">\n      <th></th>\n      <th>3</th>\n      <th>?</th>\n      <th>alfa-romero</th>\n      <th>gas</th>\n      <th>std</th>\n      <th>two</th>\n      <th>convertible</th>\n      <th>rwd</th>\n      <th>front</th>\n      <th>88.60</th>\n      <th>...</th>\n      <th>130</th>\n      <th>mpfi</th>\n      <th>3.47</th>\n      <th>2.68</th>\n      <th>9.00</th>\n      <th>111</th>\n      <th>5000</th>\n      <th>21</th>\n      <th>27</th>\n      <th>13495</th>\n    </tr>\n  </thead>\n  <tbody>\n    <tr>\n      <th>0</th>\n      <td>3</td>\n      <td>?</td>\n      <td>alfa-romero</td>\n      <td>gas</td>\n      <td>std</td>\n      <td>two</td>\n      <td>convertible</td>\n      <td>rwd</td>\n      <td>front</td>\n      <td>88.6</td>\n      <td>...</td>\n      <td>130</td>\n      <td>mpfi</td>\n      <td>3.47</td>\n      <td>2.68</td>\n      <td>9.0</td>\n      <td>111</td>\n      <td>5000</td>\n      <td>11.190476</td>\n      <td>27</td>\n      <td>16500</td>\n    </tr>\n    <tr>\n      <th>1</th>\n      <td>1</td>\n      <td>?</td>\n      <td>alfa-romero</td>\n      <td>gas</td>\n      <td>std</td>\n      <td>two</td>\n      <td>hatchback</td>\n      <td>rwd</td>\n      <td>front</td>\n      <td>94.5</td>\n      <td>...</td>\n      <td>152</td>\n      <td>mpfi</td>\n      <td>2.68</td>\n      <td>3.47</td>\n      <td>9.0</td>\n      <td>154</td>\n      <td>5000</td>\n      <td>12.368421</td>\n      <td>26</td>\n      <td>16500</td>\n    </tr>\n    <tr>\n      <th>2</th>\n      <td>2</td>\n      <td>164</td>\n      <td>audi</td>\n      <td>gas</td>\n      <td>std</td>\n      <td>four</td>\n      <td>sedan</td>\n      <td>fwd</td>\n      <td>front</td>\n      <td>99.8</td>\n      <td>...</td>\n      <td>109</td>\n      <td>mpfi</td>\n      <td>3.19</td>\n      <td>3.40</td>\n      <td>10.0</td>\n      <td>102</td>\n      <td>5500</td>\n      <td>9.791667</td>\n      <td>30</td>\n      <td>13950</td>\n    </tr>\n    <tr>\n      <th>3</th>\n      <td>2</td>\n      <td>164</td>\n      <td>audi</td>\n      <td>gas</td>\n      <td>std</td>\n      <td>four</td>\n      <td>sedan</td>\n      <td>4wd</td>\n      <td>front</td>\n      <td>99.4</td>\n      <td>...</td>\n      <td>136</td>\n      <td>mpfi</td>\n      <td>3.19</td>\n      <td>3.40</td>\n      <td>8.0</td>\n      <td>115</td>\n      <td>5500</td>\n      <td>13.055556</td>\n      <td>22</td>\n      <td>17450</td>\n    </tr>\n    <tr>\n      <th>4</th>\n      <td>2</td>\n      <td>?</td>\n      <td>audi</td>\n      <td>gas</td>\n      <td>std</td>\n      <td>two</td>\n      <td>sedan</td>\n      <td>fwd</td>\n      <td>front</td>\n      <td>99.8</td>\n      <td>...</td>\n      <td>136</td>\n      <td>mpfi</td>\n      <td>3.19</td>\n      <td>3.40</td>\n      <td>8.5</td>\n      <td>110</td>\n      <td>5500</td>\n      <td>12.368421</td>\n      <td>25</td>\n      <td>15250</td>\n    </tr>\n    <tr>\n      <th>...</th>\n      <td>...</td>\n      <td>...</td>\n      <td>...</td>\n      <td>...</td>\n      <td>...</td>\n      <td>...</td>\n      <td>...</td>\n      <td>...</td>\n      <td>...</td>\n      <td>...</td>\n      <td>...</td>\n      <td>...</td>\n      <td>...</td>\n      <td>...</td>\n      <td>...</td>\n      <td>...</td>\n      <td>...</td>\n      <td>...</td>\n      <td>...</td>\n      <td>...</td>\n      <td>...</td>\n    </tr>\n    <tr>\n      <th>199</th>\n      <td>-1</td>\n      <td>95</td>\n      <td>volvo</td>\n      <td>gas</td>\n      <td>std</td>\n      <td>four</td>\n      <td>sedan</td>\n      <td>rwd</td>\n      <td>front</td>\n      <td>109.1</td>\n      <td>...</td>\n      <td>141</td>\n      <td>mpfi</td>\n      <td>3.78</td>\n      <td>3.15</td>\n      <td>9.5</td>\n      <td>114</td>\n      <td>5400</td>\n      <td>10.217391</td>\n      <td>28</td>\n      <td>16845</td>\n    </tr>\n    <tr>\n      <th>200</th>\n      <td>-1</td>\n      <td>95</td>\n      <td>volvo</td>\n      <td>gas</td>\n      <td>turbo</td>\n      <td>four</td>\n      <td>sedan</td>\n      <td>rwd</td>\n      <td>front</td>\n      <td>109.1</td>\n      <td>...</td>\n      <td>141</td>\n      <td>mpfi</td>\n      <td>3.78</td>\n      <td>3.15</td>\n      <td>8.7</td>\n      <td>160</td>\n      <td>5300</td>\n      <td>12.368421</td>\n      <td>25</td>\n      <td>19045</td>\n    </tr>\n    <tr>\n      <th>201</th>\n      <td>-1</td>\n      <td>95</td>\n      <td>volvo</td>\n      <td>gas</td>\n      <td>std</td>\n      <td>four</td>\n      <td>sedan</td>\n      <td>rwd</td>\n      <td>front</td>\n      <td>109.1</td>\n      <td>...</td>\n      <td>173</td>\n      <td>mpfi</td>\n      <td>3.58</td>\n      <td>2.87</td>\n      <td>8.8</td>\n      <td>134</td>\n      <td>5500</td>\n      <td>13.055556</td>\n      <td>23</td>\n      <td>21485</td>\n    </tr>\n    <tr>\n      <th>202</th>\n      <td>-1</td>\n      <td>95</td>\n      <td>volvo</td>\n      <td>diesel</td>\n      <td>turbo</td>\n      <td>four</td>\n      <td>sedan</td>\n      <td>rwd</td>\n      <td>front</td>\n      <td>109.1</td>\n      <td>...</td>\n      <td>145</td>\n      <td>idi</td>\n      <td>3.01</td>\n      <td>3.40</td>\n      <td>23.0</td>\n      <td>106</td>\n      <td>4800</td>\n      <td>9.038462</td>\n      <td>27</td>\n      <td>22470</td>\n    </tr>\n    <tr>\n      <th>203</th>\n      <td>-1</td>\n      <td>95</td>\n      <td>volvo</td>\n      <td>gas</td>\n      <td>turbo</td>\n      <td>four</td>\n      <td>sedan</td>\n      <td>rwd</td>\n      <td>front</td>\n      <td>109.1</td>\n      <td>...</td>\n      <td>141</td>\n      <td>mpfi</td>\n      <td>3.78</td>\n      <td>3.15</td>\n      <td>9.5</td>\n      <td>114</td>\n      <td>5400</td>\n      <td>12.368421</td>\n      <td>25</td>\n      <td>22625</td>\n    </tr>\n  </tbody>\n</table>\n<p>204 rows × 26 columns</p>\n</div>"
     },
     "execution_count": 15,
     "metadata": {},
     "output_type": "execute_result"
    }
   ],
   "source": [
    "df.rename(columns={'168.80':'length'})"
   ],
   "metadata": {
    "collapsed": false,
    "ExecuteTime": {
     "end_time": "2024-03-17T04:40:54.397708Z",
     "start_time": "2024-03-17T04:40:54.377388Z"
    }
   },
   "id": "3fc8f3b20b1ade00",
   "execution_count": 15
  },
  {
   "cell_type": "markdown",
   "source": [
    "# NORMALIZATION\n"
   ],
   "metadata": {
    "collapsed": false
   },
   "id": "35bb24691a4943f7"
  },
  {
   "cell_type": "code",
   "outputs": [
    {
     "name": "stdout",
     "output_type": "stream",
     "text": [
      "0      0.811148\n",
      "1      0.822681\n",
      "2      0.848630\n",
      "3      0.848630\n",
      "4      0.851994\n",
      "         ...   \n",
      "199    0.907256\n",
      "200    0.907256\n",
      "201    0.907256\n",
      "202    0.907256\n",
      "203    0.907256\n",
      "Name: 168.80, Length: 204, dtype: float64\n"
     ]
    }
   ],
   "source": [
    " \n",
    "#lemme create 3 sublists for the operating \n",
    "subdf1=df\n",
    "subdf2=df\n",
    "subdf3=df\n",
    "\n",
    "#for simple feature scaling\n",
    "subdf1['168.80']=subdf1['168.80']/subdf1['168.80'].max()\n",
    "print(subdf1['168.80'])"
   ],
   "metadata": {
    "collapsed": false,
    "ExecuteTime": {
     "end_time": "2024-03-17T04:40:54.406492Z",
     "start_time": "2024-03-17T04:40:54.398906Z"
    }
   },
   "id": "5e1c49790e672f1f",
   "execution_count": 16
  },
  {
   "cell_type": "code",
   "outputs": [
    {
     "ename": "KeyError",
     "evalue": "'168.80'",
     "output_type": "error",
     "traceback": [
      "\u001B[1;31m---------------------------------------------------------------------------\u001B[0m",
      "\u001B[1;31mKeyError\u001B[0m                                  Traceback (most recent call last)",
      "Cell \u001B[1;32mIn[17], line 3\u001B[0m\n\u001B[0;32m      1\u001B[0m \u001B[38;5;66;03m#for min-max scaling\u001B[39;00m\n\u001B[0;32m      2\u001B[0m subdf2\u001B[38;5;241m=\u001B[39m(subdf2[\u001B[38;5;124m'\u001B[39m\u001B[38;5;124m168.80\u001B[39m\u001B[38;5;124m'\u001B[39m]\u001B[38;5;241m-\u001B[39msubdf2[\u001B[38;5;124m'\u001B[39m\u001B[38;5;124m168.80\u001B[39m\u001B[38;5;124m'\u001B[39m]\u001B[38;5;241m.\u001B[39mmin())\u001B[38;5;241m/\u001B[39m(subdf2[\u001B[38;5;124m'\u001B[39m\u001B[38;5;124m168.80\u001B[39m\u001B[38;5;124m'\u001B[39m]\u001B[38;5;241m-\u001B[39msubdf2[\u001B[38;5;124m'\u001B[39m\u001B[38;5;124m168.80\u001B[39m\u001B[38;5;124m'\u001B[39m]\u001B[38;5;241m.\u001B[39mmax())\n\u001B[1;32m----> 3\u001B[0m \u001B[38;5;28mprint\u001B[39m(\u001B[43msubdf2\u001B[49m\u001B[43m[\u001B[49m\u001B[38;5;124;43m'\u001B[39;49m\u001B[38;5;124;43m168.80\u001B[39;49m\u001B[38;5;124;43m'\u001B[39;49m\u001B[43m]\u001B[49m)\n",
      "File \u001B[1;32m~\\PycharmProjects\\Eda_basics\\.venv\\Lib\\site-packages\\pandas\\core\\series.py:1112\u001B[0m, in \u001B[0;36mSeries.__getitem__\u001B[1;34m(self, key)\u001B[0m\n\u001B[0;32m   1109\u001B[0m     \u001B[38;5;28;01mreturn\u001B[39;00m \u001B[38;5;28mself\u001B[39m\u001B[38;5;241m.\u001B[39m_values[key]\n\u001B[0;32m   1111\u001B[0m \u001B[38;5;28;01melif\u001B[39;00m key_is_scalar:\n\u001B[1;32m-> 1112\u001B[0m     \u001B[38;5;28;01mreturn\u001B[39;00m \u001B[38;5;28;43mself\u001B[39;49m\u001B[38;5;241;43m.\u001B[39;49m\u001B[43m_get_value\u001B[49m\u001B[43m(\u001B[49m\u001B[43mkey\u001B[49m\u001B[43m)\u001B[49m\n\u001B[0;32m   1114\u001B[0m \u001B[38;5;66;03m# Convert generator to list before going through hashable part\u001B[39;00m\n\u001B[0;32m   1115\u001B[0m \u001B[38;5;66;03m# (We will iterate through the generator there to check for slices)\u001B[39;00m\n\u001B[0;32m   1116\u001B[0m \u001B[38;5;28;01mif\u001B[39;00m is_iterator(key):\n",
      "File \u001B[1;32m~\\PycharmProjects\\Eda_basics\\.venv\\Lib\\site-packages\\pandas\\core\\series.py:1228\u001B[0m, in \u001B[0;36mSeries._get_value\u001B[1;34m(self, label, takeable)\u001B[0m\n\u001B[0;32m   1225\u001B[0m     \u001B[38;5;28;01mreturn\u001B[39;00m \u001B[38;5;28mself\u001B[39m\u001B[38;5;241m.\u001B[39m_values[label]\n\u001B[0;32m   1227\u001B[0m \u001B[38;5;66;03m# Similar to Index.get_value, but we do not fall back to positional\u001B[39;00m\n\u001B[1;32m-> 1228\u001B[0m loc \u001B[38;5;241m=\u001B[39m \u001B[38;5;28;43mself\u001B[39;49m\u001B[38;5;241;43m.\u001B[39;49m\u001B[43mindex\u001B[49m\u001B[38;5;241;43m.\u001B[39;49m\u001B[43mget_loc\u001B[49m\u001B[43m(\u001B[49m\u001B[43mlabel\u001B[49m\u001B[43m)\u001B[49m\n\u001B[0;32m   1230\u001B[0m \u001B[38;5;28;01mif\u001B[39;00m is_integer(loc):\n\u001B[0;32m   1231\u001B[0m     \u001B[38;5;28;01mreturn\u001B[39;00m \u001B[38;5;28mself\u001B[39m\u001B[38;5;241m.\u001B[39m_values[loc]\n",
      "File \u001B[1;32m~\\PycharmProjects\\Eda_basics\\.venv\\Lib\\site-packages\\pandas\\core\\indexes\\range.py:417\u001B[0m, in \u001B[0;36mRangeIndex.get_loc\u001B[1;34m(self, key)\u001B[0m\n\u001B[0;32m    415\u001B[0m         \u001B[38;5;28;01mraise\u001B[39;00m \u001B[38;5;167;01mKeyError\u001B[39;00m(key) \u001B[38;5;28;01mfrom\u001B[39;00m \u001B[38;5;21;01merr\u001B[39;00m\n\u001B[0;32m    416\u001B[0m \u001B[38;5;28;01mif\u001B[39;00m \u001B[38;5;28misinstance\u001B[39m(key, Hashable):\n\u001B[1;32m--> 417\u001B[0m     \u001B[38;5;28;01mraise\u001B[39;00m \u001B[38;5;167;01mKeyError\u001B[39;00m(key)\n\u001B[0;32m    418\u001B[0m \u001B[38;5;28mself\u001B[39m\u001B[38;5;241m.\u001B[39m_check_indexing_error(key)\n\u001B[0;32m    419\u001B[0m \u001B[38;5;28;01mraise\u001B[39;00m \u001B[38;5;167;01mKeyError\u001B[39;00m(key)\n",
      "\u001B[1;31mKeyError\u001B[0m: '168.80'"
     ]
    }
   ],
   "source": [
    "#for min-max scaling\n",
    "subdf2=(subdf2['168.80']-subdf2['168.80'].min())/(subdf2['168.80']-subdf2['168.80'].max())\n",
    "print(subdf2['168.80'])"
   ],
   "metadata": {
    "collapsed": false,
    "ExecuteTime": {
     "end_time": "2024-03-17T04:40:55.338997Z",
     "start_time": "2024-03-17T04:40:54.407903Z"
    }
   },
   "id": "4ef27c1adf79e8f0",
   "execution_count": 17
  },
  {
   "cell_type": "code",
   "outputs": [],
   "source": [
    "subdf3=(subdf3['168.80'].mean())/(subdf3['168.80'].std())\n",
    "print(subdf3['168.80'])"
   ],
   "metadata": {
    "collapsed": false,
    "ExecuteTime": {
     "end_time": "2024-03-17T04:40:55.341375Z",
     "start_time": "2024-03-17T04:40:55.340365Z"
    }
   },
   "id": "8d92936d253b97a4",
   "execution_count": null
  },
  {
   "cell_type": "markdown",
   "source": [
    "# Binning"
   ],
   "metadata": {
    "collapsed": false
   },
   "id": "424d896077a64a87"
  },
  {
   "cell_type": "code",
   "outputs": [],
   "source": [
    "df.rename(columns={\"13495\":\"price\"})\n"
   ],
   "metadata": {
    "collapsed": false
   },
   "id": "93bbe3ab7e69e561",
   "execution_count": null
  },
  {
   "cell_type": "code",
   "outputs": [],
   "source": [
    "df['13495'].dropna(inplace=True)\n",
    "pd.to_numeric(df['13495'])\n",
    "bins=np.linspace(min(df['13495']),max(df['13495']),4)\n"
   ],
   "metadata": {
    "collapsed": false,
    "ExecuteTime": {
     "start_time": "2024-03-17T04:40:55.344059Z"
    }
   },
   "id": "e3171099ac133441",
   "execution_count": null
  },
  {
   "cell_type": "code",
   "outputs": [],
   "source": [
    "#obtaining dummy variables:\n",
    "pd.get_dummies(df['gas'])"
   ],
   "metadata": {
    "collapsed": false
   },
   "id": "133f90d1a1a87113",
   "execution_count": null
  },
  {
   "cell_type": "code",
   "outputs": [],
   "source": [
    "df.value_counts()"
   ],
   "metadata": {
    "collapsed": false
   },
   "id": "9cca8be34f1b1476",
   "execution_count": null
  },
  {
   "cell_type": "code",
   "outputs": [],
   "source": [
    "!pip install seaborn #installing seaborn as it is not present in my notebook"
   ],
   "metadata": {
    "collapsed": false,
    "ExecuteTime": {
     "start_time": "2024-03-17T04:40:55.349594Z"
    }
   },
   "id": "e625073bebdb3fc4",
   "execution_count": null
  },
  {
   "cell_type": "code",
   "outputs": [],
   "source": [
    "!python.exe -m pip install --upgrade pip"
   ],
   "metadata": {
    "collapsed": false
   },
   "id": "bcce93362481e8f",
   "execution_count": null
  },
  {
   "cell_type": "code",
   "outputs": [],
   "source": [
    "import seaborn as sns\n",
    "sns.boxplot(x=\"rwd\", y=\"13495\", data=df)"
   ],
   "metadata": {
    "collapsed": false,
    "ExecuteTime": {
     "start_time": "2024-03-17T04:40:55.353010Z"
    }
   },
   "id": "91a9aa5e8e58f359",
   "execution_count": null
  },
  {
   "cell_type": "code",
   "outputs": [],
   "source": [
    "import matplotlib.pyplot as plt\n",
    "y=df['13495']\n",
    "x=df['alfa-romero']\n",
    "plt.scatter(x,y)"
   ],
   "metadata": {
    "collapsed": false
   },
   "id": "767f135c669e8cfa",
   "execution_count": null
  },
  {
   "cell_type": "markdown",
   "source": [
    "# Grouping Data"
   ],
   "metadata": {
    "collapsed": false
   },
   "id": "776dc9f32f7ac580"
  },
  {
   "cell_type": "code",
   "outputs": [],
   "source": [
    "df_test=df[['rwd','convertible','27']]\n",
    "df_grp=df_test.groupby(['rwd','convertible'],as_index=False).mean()\n",
    "df_grp"
   ],
   "metadata": {
    "collapsed": false,
    "ExecuteTime": {
     "start_time": "2024-03-17T04:40:55.356732Z"
    }
   },
   "id": "338d766a8ca4dfb6",
   "execution_count": null
  },
  {
   "cell_type": "code",
   "outputs": [],
   "source": [
    "df_pivot=df_grp.pivot(index='rwd',columns='convertible')\n",
    "df_pivot"
   ],
   "metadata": {
    "collapsed": false
   },
   "id": "e8bed4e06ee2b0d",
   "execution_count": null
  },
  {
   "cell_type": "code",
   "outputs": [],
   "source": [
    "#the best way to represent a pivot table is the heat maps \n",
    "plt.pcolor(df_pivot)\n",
    "plt.colorbar()\n",
    "plt.show()"
   ],
   "metadata": {
    "collapsed": false
   },
   "id": "eee8b7b6e385bca2",
   "execution_count": null
  },
  {
   "cell_type": "code",
   "outputs": [],
   "source": [
    "#VAriation of enginesize to that of city milage \n",
    "sns.regplot(x='130',y='21', data=df)\n",
    "plt.ylim(0,)"
   ],
   "metadata": {
    "collapsed": false,
    "ExecuteTime": {
     "start_time": "2024-03-17T04:40:55.361628Z"
    }
   },
   "id": "a31594307a7fb2b2",
   "execution_count": null
  },
  {
   "cell_type": "code",
   "outputs": [
    {
     "data": {
      "text/plain": "       price  highway-mpg  city-mpg  peak-rpm  horsepower  compression-ratio  \\\n3    13950.0           30        24    5500.0       102.0               10.0   \n4    17450.0           22        18    5500.0       115.0                8.0   \n6    17710.0           25        19    5500.0       110.0                8.5   \n8    23875.0           20        17    5500.0       140.0                8.3   \n10   16430.0           29        23    5800.0       101.0                8.8   \n..       ...          ...       ...       ...         ...                ...   \n200  16845.0           28        23    5400.0       114.0                9.5   \n201  19045.0           25        19    5300.0       160.0                8.7   \n202  21485.0           23        18    5500.0       134.0                8.8   \n203  22470.0           27        26    4800.0       106.0               23.0   \n204  22625.0           25        19    5400.0       114.0                9.5   \n\n     stroke  bore fuel-system  engine-size  ...  length wheel-base  \\\n3      3.40  3.19        mpfi          109  ...   176.6       99.8   \n4      3.40  3.19        mpfi          136  ...   176.6       99.4   \n6      3.40  3.19        mpfi          136  ...   192.7      105.8   \n8      3.40  3.13        mpfi          131  ...   192.7      105.8   \n10     2.80  3.50        mpfi          108  ...   176.8      101.2   \n..      ...   ...         ...          ...  ...     ...        ...   \n200    3.15  3.78        mpfi          141  ...   188.8      109.1   \n201    3.15  3.78        mpfi          141  ...   188.8      109.1   \n202    2.87  3.58        mpfi          173  ...   188.8      109.1   \n203    3.40  3.01         idi          145  ...   188.8      109.1   \n204    3.15  3.78        mpfi          141  ...   188.8      109.1   \n\n     engine-location  drive-wheels  body-style  num-of-doors  aspiration  \\\n3              front           fwd       sedan           4.0         std   \n4              front           4wd       sedan           4.0         std   \n6              front           fwd       sedan           4.0         std   \n8              front           fwd       sedan           4.0       turbo   \n10             front           rwd       sedan           2.0         std   \n..               ...           ...         ...           ...         ...   \n200            front           rwd       sedan           4.0         std   \n201            front           rwd       sedan           4.0       turbo   \n202            front           rwd       sedan           4.0         std   \n203            front           rwd       sedan           4.0       turbo   \n204            front           rwd       sedan           4.0       turbo   \n\n    fuel-type   make normalized-losses  \n3         gas   audi             164.0  \n4         gas   audi             164.0  \n6         gas   audi             158.0  \n8         gas   audi             158.0  \n10        gas    bmw             192.0  \n..        ...    ...               ...  \n200       gas  volvo              95.0  \n201       gas  volvo              95.0  \n202       gas  volvo              95.0  \n203    diesel  volvo              95.0  \n204       gas  volvo              95.0  \n\n[159 rows x 25 columns]",
      "text/html": "<div>\n<style scoped>\n    .dataframe tbody tr th:only-of-type {\n        vertical-align: middle;\n    }\n\n    .dataframe tbody tr th {\n        vertical-align: top;\n    }\n\n    .dataframe thead th {\n        text-align: right;\n    }\n</style>\n<table border=\"1\" class=\"dataframe\">\n  <thead>\n    <tr style=\"text-align: right;\">\n      <th></th>\n      <th>price</th>\n      <th>highway-mpg</th>\n      <th>city-mpg</th>\n      <th>peak-rpm</th>\n      <th>horsepower</th>\n      <th>compression-ratio</th>\n      <th>stroke</th>\n      <th>bore</th>\n      <th>fuel-system</th>\n      <th>engine-size</th>\n      <th>...</th>\n      <th>length</th>\n      <th>wheel-base</th>\n      <th>engine-location</th>\n      <th>drive-wheels</th>\n      <th>body-style</th>\n      <th>num-of-doors</th>\n      <th>aspiration</th>\n      <th>fuel-type</th>\n      <th>make</th>\n      <th>normalized-losses</th>\n    </tr>\n  </thead>\n  <tbody>\n    <tr>\n      <th>3</th>\n      <td>13950.0</td>\n      <td>30</td>\n      <td>24</td>\n      <td>5500.0</td>\n      <td>102.0</td>\n      <td>10.0</td>\n      <td>3.40</td>\n      <td>3.19</td>\n      <td>mpfi</td>\n      <td>109</td>\n      <td>...</td>\n      <td>176.6</td>\n      <td>99.8</td>\n      <td>front</td>\n      <td>fwd</td>\n      <td>sedan</td>\n      <td>4.0</td>\n      <td>std</td>\n      <td>gas</td>\n      <td>audi</td>\n      <td>164.0</td>\n    </tr>\n    <tr>\n      <th>4</th>\n      <td>17450.0</td>\n      <td>22</td>\n      <td>18</td>\n      <td>5500.0</td>\n      <td>115.0</td>\n      <td>8.0</td>\n      <td>3.40</td>\n      <td>3.19</td>\n      <td>mpfi</td>\n      <td>136</td>\n      <td>...</td>\n      <td>176.6</td>\n      <td>99.4</td>\n      <td>front</td>\n      <td>4wd</td>\n      <td>sedan</td>\n      <td>4.0</td>\n      <td>std</td>\n      <td>gas</td>\n      <td>audi</td>\n      <td>164.0</td>\n    </tr>\n    <tr>\n      <th>6</th>\n      <td>17710.0</td>\n      <td>25</td>\n      <td>19</td>\n      <td>5500.0</td>\n      <td>110.0</td>\n      <td>8.5</td>\n      <td>3.40</td>\n      <td>3.19</td>\n      <td>mpfi</td>\n      <td>136</td>\n      <td>...</td>\n      <td>192.7</td>\n      <td>105.8</td>\n      <td>front</td>\n      <td>fwd</td>\n      <td>sedan</td>\n      <td>4.0</td>\n      <td>std</td>\n      <td>gas</td>\n      <td>audi</td>\n      <td>158.0</td>\n    </tr>\n    <tr>\n      <th>8</th>\n      <td>23875.0</td>\n      <td>20</td>\n      <td>17</td>\n      <td>5500.0</td>\n      <td>140.0</td>\n      <td>8.3</td>\n      <td>3.40</td>\n      <td>3.13</td>\n      <td>mpfi</td>\n      <td>131</td>\n      <td>...</td>\n      <td>192.7</td>\n      <td>105.8</td>\n      <td>front</td>\n      <td>fwd</td>\n      <td>sedan</td>\n      <td>4.0</td>\n      <td>turbo</td>\n      <td>gas</td>\n      <td>audi</td>\n      <td>158.0</td>\n    </tr>\n    <tr>\n      <th>10</th>\n      <td>16430.0</td>\n      <td>29</td>\n      <td>23</td>\n      <td>5800.0</td>\n      <td>101.0</td>\n      <td>8.8</td>\n      <td>2.80</td>\n      <td>3.50</td>\n      <td>mpfi</td>\n      <td>108</td>\n      <td>...</td>\n      <td>176.8</td>\n      <td>101.2</td>\n      <td>front</td>\n      <td>rwd</td>\n      <td>sedan</td>\n      <td>2.0</td>\n      <td>std</td>\n      <td>gas</td>\n      <td>bmw</td>\n      <td>192.0</td>\n    </tr>\n    <tr>\n      <th>...</th>\n      <td>...</td>\n      <td>...</td>\n      <td>...</td>\n      <td>...</td>\n      <td>...</td>\n      <td>...</td>\n      <td>...</td>\n      <td>...</td>\n      <td>...</td>\n      <td>...</td>\n      <td>...</td>\n      <td>...</td>\n      <td>...</td>\n      <td>...</td>\n      <td>...</td>\n      <td>...</td>\n      <td>...</td>\n      <td>...</td>\n      <td>...</td>\n      <td>...</td>\n      <td>...</td>\n    </tr>\n    <tr>\n      <th>200</th>\n      <td>16845.0</td>\n      <td>28</td>\n      <td>23</td>\n      <td>5400.0</td>\n      <td>114.0</td>\n      <td>9.5</td>\n      <td>3.15</td>\n      <td>3.78</td>\n      <td>mpfi</td>\n      <td>141</td>\n      <td>...</td>\n      <td>188.8</td>\n      <td>109.1</td>\n      <td>front</td>\n      <td>rwd</td>\n      <td>sedan</td>\n      <td>4.0</td>\n      <td>std</td>\n      <td>gas</td>\n      <td>volvo</td>\n      <td>95.0</td>\n    </tr>\n    <tr>\n      <th>201</th>\n      <td>19045.0</td>\n      <td>25</td>\n      <td>19</td>\n      <td>5300.0</td>\n      <td>160.0</td>\n      <td>8.7</td>\n      <td>3.15</td>\n      <td>3.78</td>\n      <td>mpfi</td>\n      <td>141</td>\n      <td>...</td>\n      <td>188.8</td>\n      <td>109.1</td>\n      <td>front</td>\n      <td>rwd</td>\n      <td>sedan</td>\n      <td>4.0</td>\n      <td>turbo</td>\n      <td>gas</td>\n      <td>volvo</td>\n      <td>95.0</td>\n    </tr>\n    <tr>\n      <th>202</th>\n      <td>21485.0</td>\n      <td>23</td>\n      <td>18</td>\n      <td>5500.0</td>\n      <td>134.0</td>\n      <td>8.8</td>\n      <td>2.87</td>\n      <td>3.58</td>\n      <td>mpfi</td>\n      <td>173</td>\n      <td>...</td>\n      <td>188.8</td>\n      <td>109.1</td>\n      <td>front</td>\n      <td>rwd</td>\n      <td>sedan</td>\n      <td>4.0</td>\n      <td>std</td>\n      <td>gas</td>\n      <td>volvo</td>\n      <td>95.0</td>\n    </tr>\n    <tr>\n      <th>203</th>\n      <td>22470.0</td>\n      <td>27</td>\n      <td>26</td>\n      <td>4800.0</td>\n      <td>106.0</td>\n      <td>23.0</td>\n      <td>3.40</td>\n      <td>3.01</td>\n      <td>idi</td>\n      <td>145</td>\n      <td>...</td>\n      <td>188.8</td>\n      <td>109.1</td>\n      <td>front</td>\n      <td>rwd</td>\n      <td>sedan</td>\n      <td>4.0</td>\n      <td>turbo</td>\n      <td>diesel</td>\n      <td>volvo</td>\n      <td>95.0</td>\n    </tr>\n    <tr>\n      <th>204</th>\n      <td>22625.0</td>\n      <td>25</td>\n      <td>19</td>\n      <td>5400.0</td>\n      <td>114.0</td>\n      <td>9.5</td>\n      <td>3.15</td>\n      <td>3.78</td>\n      <td>mpfi</td>\n      <td>141</td>\n      <td>...</td>\n      <td>188.8</td>\n      <td>109.1</td>\n      <td>front</td>\n      <td>rwd</td>\n      <td>sedan</td>\n      <td>4.0</td>\n      <td>turbo</td>\n      <td>gas</td>\n      <td>volvo</td>\n      <td>95.0</td>\n    </tr>\n  </tbody>\n</table>\n<p>159 rows × 25 columns</p>\n</div>"
     },
     "execution_count": 27,
     "metadata": {},
     "output_type": "execute_result"
    }
   ],
   "source": [
    "X.dropna()"
   ],
   "metadata": {
    "collapsed": false,
    "ExecuteTime": {
     "end_time": "2024-03-17T04:47:19.035275Z",
     "start_time": "2024-03-17T04:47:19.001915Z"
    }
   },
   "id": "5b4361391b1fefdf",
   "execution_count": 27
  },
  {
   "cell_type": "code",
   "outputs": [
    {
     "name": "stdout",
     "output_type": "stream",
     "text": [
      "0.7598739453800996 3.5922515477129504e-31\n"
     ]
    }
   ],
   "source": [
    "import scipy.stats as stats\n",
    "#caluculating the pearson's correlation value \n",
    "pearson,p_value=stats.pearsonr(X['horsepower'],X['price'])\n",
    "print(pearson,p_value)"
   ],
   "metadata": {
    "collapsed": false,
    "ExecuteTime": {
     "end_time": "2024-03-17T09:26:07.342331Z",
     "start_time": "2024-03-17T09:26:07.232491Z"
    }
   },
   "id": "69a59f6ab9ade661",
   "execution_count": 31
  },
  {
   "cell_type": "code",
   "outputs": [
    {
     "ename": "AttributeError",
     "evalue": "'numpy.ndarray' object has no attribute 'corr'",
     "output_type": "error",
     "traceback": [
      "\u001B[1;31m---------------------------------------------------------------------------\u001B[0m",
      "\u001B[1;31mAttributeError\u001B[0m                            Traceback (most recent call last)",
      "Cell \u001B[1;32mIn[30], line 2\u001B[0m\n\u001B[0;32m      1\u001B[0m data\u001B[38;5;241m=\u001B[39mnp\u001B[38;5;241m.\u001B[39marray([X[\u001B[38;5;124m'\u001B[39m\u001B[38;5;124mhorsepower\u001B[39m\u001B[38;5;124m'\u001B[39m],X[\u001B[38;5;124m'\u001B[39m\u001B[38;5;124mprice\u001B[39m\u001B[38;5;124m'\u001B[39m]])\n\u001B[1;32m----> 2\u001B[0m corelation_matrix\u001B[38;5;241m=\u001B[39m\u001B[43mdata\u001B[49m\u001B[38;5;241;43m.\u001B[39;49m\u001B[43mcorr\u001B[49m()\n",
      "\u001B[1;31mAttributeError\u001B[0m: 'numpy.ndarray' object has no attribute 'corr'"
     ]
    }
   ],
   "source": [],
   "metadata": {
    "collapsed": false,
    "ExecuteTime": {
     "end_time": "2024-03-17T04:52:03.132971Z",
     "start_time": "2024-03-17T04:52:03.055362Z"
    }
   },
   "id": "e4c3e63613c03f7c",
   "execution_count": 30
  },
  {
   "cell_type": "code",
   "outputs": [],
   "source": [],
   "metadata": {
    "collapsed": false,
    "ExecuteTime": {
     "start_time": "2024-03-17T04:40:55.367964Z"
    }
   },
   "id": "edfafc02bf626bd5"
  },
  {
   "cell_type": "code",
   "outputs": [],
   "source": [],
   "metadata": {
    "collapsed": false
   },
   "id": "9bec6f025f2febe"
  },
  {
   "cell_type": "code",
   "outputs": [],
   "source": [],
   "metadata": {
    "collapsed": false
   },
   "id": "b71ced3bb40647ac"
  }
 ],
 "metadata": {
  "kernelspec": {
   "display_name": "Python 3",
   "language": "python",
   "name": "python3"
  },
  "language_info": {
   "codemirror_mode": {
    "name": "ipython",
    "version": 2
   },
   "file_extension": ".py",
   "mimetype": "text/x-python",
   "name": "python",
   "nbconvert_exporter": "python",
   "pygments_lexer": "ipython2",
   "version": "2.7.6"
  }
 },
 "nbformat": 4,
 "nbformat_minor": 5
}
