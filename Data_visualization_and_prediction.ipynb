{
 "cells": [
  {
   "cell_type": "code",
   "execution_count": 1,
   "id": "fa5ddb5d",
   "metadata": {},
   "outputs": [
    {
     "name": "stderr",
     "output_type": "stream",
     "text": [
      "C:\\Users\\sitar\\anaconda3\\lib\\site-packages\\scipy\\__init__.py:146: UserWarning: A NumPy version >=1.16.5 and <1.23.0 is required for this version of SciPy (detected version 1.26.4\n",
      "  warnings.warn(f\"A NumPy version >={np_minversion} and <{np_maxversion}\"\n"
     ]
    }
   ],
   "source": [
    "import pandas as pd\n",
    "import matplotlib.pyplot as plt\n",
    "import seaborn as sns\n",
    "import numpy as np\n",
    "import scipy.stats as stats\n",
    "from matplotlib.pyplot import pcolor\n"
   ]
  },
  {
   "cell_type": "code",
   "execution_count": 2,
   "id": "e1c0a24f",
   "metadata": {},
   "outputs": [],
   "source": [
    "from ucimlrepo import fetch_ucirepo\n",
    "automobile = fetch_ucirepo(id=10)\n",
    "df = automobile.data.features\n",
    "y = automobile.data.targets"
   ]
  },
  {
   "cell_type": "code",
   "execution_count": 3,
   "id": "2886d306",
   "metadata": {},
   "outputs": [],
   "source": [
    "%matplotlib inline"
   ]
  },
  {
   "cell_type": "markdown",
   "id": "55b783c1",
   "metadata": {},
   "source": [
    "### Basic things first, let's view the data and it's features "
   ]
  },
  {
   "cell_type": "code",
   "execution_count": 4,
   "id": "58085333",
   "metadata": {},
   "outputs": [
    {
     "data": {
      "text/html": [
       "<div>\n",
       "<style scoped>\n",
       "    .dataframe tbody tr th:only-of-type {\n",
       "        vertical-align: middle;\n",
       "    }\n",
       "\n",
       "    .dataframe tbody tr th {\n",
       "        vertical-align: top;\n",
       "    }\n",
       "\n",
       "    .dataframe thead th {\n",
       "        text-align: right;\n",
       "    }\n",
       "</style>\n",
       "<table border=\"1\" class=\"dataframe\">\n",
       "  <thead>\n",
       "    <tr style=\"text-align: right;\">\n",
       "      <th></th>\n",
       "      <th>price</th>\n",
       "      <th>highway-mpg</th>\n",
       "      <th>city-mpg</th>\n",
       "      <th>peak-rpm</th>\n",
       "      <th>horsepower</th>\n",
       "      <th>compression-ratio</th>\n",
       "      <th>stroke</th>\n",
       "      <th>bore</th>\n",
       "      <th>fuel-system</th>\n",
       "      <th>engine-size</th>\n",
       "      <th>...</th>\n",
       "      <th>length</th>\n",
       "      <th>wheel-base</th>\n",
       "      <th>engine-location</th>\n",
       "      <th>drive-wheels</th>\n",
       "      <th>body-style</th>\n",
       "      <th>num-of-doors</th>\n",
       "      <th>aspiration</th>\n",
       "      <th>fuel-type</th>\n",
       "      <th>make</th>\n",
       "      <th>normalized-losses</th>\n",
       "    </tr>\n",
       "  </thead>\n",
       "  <tbody>\n",
       "    <tr>\n",
       "      <th>0</th>\n",
       "      <td>13495.0</td>\n",
       "      <td>27</td>\n",
       "      <td>21</td>\n",
       "      <td>5000.0</td>\n",
       "      <td>111.0</td>\n",
       "      <td>9.0</td>\n",
       "      <td>2.68</td>\n",
       "      <td>3.47</td>\n",
       "      <td>mpfi</td>\n",
       "      <td>130</td>\n",
       "      <td>...</td>\n",
       "      <td>168.8</td>\n",
       "      <td>88.6</td>\n",
       "      <td>front</td>\n",
       "      <td>rwd</td>\n",
       "      <td>convertible</td>\n",
       "      <td>2.0</td>\n",
       "      <td>std</td>\n",
       "      <td>gas</td>\n",
       "      <td>alfa-romero</td>\n",
       "      <td>NaN</td>\n",
       "    </tr>\n",
       "    <tr>\n",
       "      <th>1</th>\n",
       "      <td>16500.0</td>\n",
       "      <td>27</td>\n",
       "      <td>21</td>\n",
       "      <td>5000.0</td>\n",
       "      <td>111.0</td>\n",
       "      <td>9.0</td>\n",
       "      <td>2.68</td>\n",
       "      <td>3.47</td>\n",
       "      <td>mpfi</td>\n",
       "      <td>130</td>\n",
       "      <td>...</td>\n",
       "      <td>168.8</td>\n",
       "      <td>88.6</td>\n",
       "      <td>front</td>\n",
       "      <td>rwd</td>\n",
       "      <td>convertible</td>\n",
       "      <td>2.0</td>\n",
       "      <td>std</td>\n",
       "      <td>gas</td>\n",
       "      <td>alfa-romero</td>\n",
       "      <td>NaN</td>\n",
       "    </tr>\n",
       "    <tr>\n",
       "      <th>2</th>\n",
       "      <td>16500.0</td>\n",
       "      <td>26</td>\n",
       "      <td>19</td>\n",
       "      <td>5000.0</td>\n",
       "      <td>154.0</td>\n",
       "      <td>9.0</td>\n",
       "      <td>3.47</td>\n",
       "      <td>2.68</td>\n",
       "      <td>mpfi</td>\n",
       "      <td>152</td>\n",
       "      <td>...</td>\n",
       "      <td>171.2</td>\n",
       "      <td>94.5</td>\n",
       "      <td>front</td>\n",
       "      <td>rwd</td>\n",
       "      <td>hatchback</td>\n",
       "      <td>2.0</td>\n",
       "      <td>std</td>\n",
       "      <td>gas</td>\n",
       "      <td>alfa-romero</td>\n",
       "      <td>NaN</td>\n",
       "    </tr>\n",
       "    <tr>\n",
       "      <th>3</th>\n",
       "      <td>13950.0</td>\n",
       "      <td>30</td>\n",
       "      <td>24</td>\n",
       "      <td>5500.0</td>\n",
       "      <td>102.0</td>\n",
       "      <td>10.0</td>\n",
       "      <td>3.40</td>\n",
       "      <td>3.19</td>\n",
       "      <td>mpfi</td>\n",
       "      <td>109</td>\n",
       "      <td>...</td>\n",
       "      <td>176.6</td>\n",
       "      <td>99.8</td>\n",
       "      <td>front</td>\n",
       "      <td>fwd</td>\n",
       "      <td>sedan</td>\n",
       "      <td>4.0</td>\n",
       "      <td>std</td>\n",
       "      <td>gas</td>\n",
       "      <td>audi</td>\n",
       "      <td>164.0</td>\n",
       "    </tr>\n",
       "    <tr>\n",
       "      <th>4</th>\n",
       "      <td>17450.0</td>\n",
       "      <td>22</td>\n",
       "      <td>18</td>\n",
       "      <td>5500.0</td>\n",
       "      <td>115.0</td>\n",
       "      <td>8.0</td>\n",
       "      <td>3.40</td>\n",
       "      <td>3.19</td>\n",
       "      <td>mpfi</td>\n",
       "      <td>136</td>\n",
       "      <td>...</td>\n",
       "      <td>176.6</td>\n",
       "      <td>99.4</td>\n",
       "      <td>front</td>\n",
       "      <td>4wd</td>\n",
       "      <td>sedan</td>\n",
       "      <td>4.0</td>\n",
       "      <td>std</td>\n",
       "      <td>gas</td>\n",
       "      <td>audi</td>\n",
       "      <td>164.0</td>\n",
       "    </tr>\n",
       "  </tbody>\n",
       "</table>\n",
       "<p>5 rows × 25 columns</p>\n",
       "</div>"
      ],
      "text/plain": [
       "     price  highway-mpg  city-mpg  peak-rpm  horsepower  compression-ratio  \\\n",
       "0  13495.0           27        21    5000.0       111.0                9.0   \n",
       "1  16500.0           27        21    5000.0       111.0                9.0   \n",
       "2  16500.0           26        19    5000.0       154.0                9.0   \n",
       "3  13950.0           30        24    5500.0       102.0               10.0   \n",
       "4  17450.0           22        18    5500.0       115.0                8.0   \n",
       "\n",
       "   stroke  bore fuel-system  engine-size  ...  length wheel-base  \\\n",
       "0    2.68  3.47        mpfi          130  ...   168.8       88.6   \n",
       "1    2.68  3.47        mpfi          130  ...   168.8       88.6   \n",
       "2    3.47  2.68        mpfi          152  ...   171.2       94.5   \n",
       "3    3.40  3.19        mpfi          109  ...   176.6       99.8   \n",
       "4    3.40  3.19        mpfi          136  ...   176.6       99.4   \n",
       "\n",
       "   engine-location  drive-wheels   body-style  num-of-doors  aspiration  \\\n",
       "0            front           rwd  convertible           2.0         std   \n",
       "1            front           rwd  convertible           2.0         std   \n",
       "2            front           rwd    hatchback           2.0         std   \n",
       "3            front           fwd        sedan           4.0         std   \n",
       "4            front           4wd        sedan           4.0         std   \n",
       "\n",
       "  fuel-type         make normalized-losses  \n",
       "0       gas  alfa-romero               NaN  \n",
       "1       gas  alfa-romero               NaN  \n",
       "2       gas  alfa-romero               NaN  \n",
       "3       gas         audi             164.0  \n",
       "4       gas         audi             164.0  \n",
       "\n",
       "[5 rows x 25 columns]"
      ]
     },
     "execution_count": 4,
     "metadata": {},
     "output_type": "execute_result"
    }
   ],
   "source": [
    "df.head()"
   ]
  },
  {
   "cell_type": "markdown",
   "id": "832eee16",
   "metadata": {},
   "source": [
    "trying to analyze the datatype of each feature in the df"
   ]
  },
  {
   "cell_type": "code",
   "execution_count": 5,
   "id": "18c8bf98",
   "metadata": {},
   "outputs": [
    {
     "data": {
      "text/plain": [
       "price                float64\n",
       "highway-mpg            int64\n",
       "city-mpg               int64\n",
       "peak-rpm             float64\n",
       "horsepower           float64\n",
       "compression-ratio    float64\n",
       "stroke               float64\n",
       "bore                 float64\n",
       "fuel-system           object\n",
       "engine-size            int64\n",
       "num-of-cylinders       int64\n",
       "engine-type           object\n",
       "curb-weight            int64\n",
       "height               float64\n",
       "width                float64\n",
       "length               float64\n",
       "wheel-base           float64\n",
       "engine-location       object\n",
       "drive-wheels          object\n",
       "body-style            object\n",
       "num-of-doors         float64\n",
       "aspiration            object\n",
       "fuel-type             object\n",
       "make                  object\n",
       "normalized-losses    float64\n",
       "dtype: object"
      ]
     },
     "execution_count": 5,
     "metadata": {},
     "output_type": "execute_result"
    }
   ],
   "source": [
    "df.dtypes"
   ]
  },
  {
   "cell_type": "code",
   "execution_count": 6,
   "id": "9c7a6ff3",
   "metadata": {},
   "outputs": [
    {
     "data": {
      "text/html": [
       "<div>\n",
       "<style scoped>\n",
       "    .dataframe tbody tr th:only-of-type {\n",
       "        vertical-align: middle;\n",
       "    }\n",
       "\n",
       "    .dataframe tbody tr th {\n",
       "        vertical-align: top;\n",
       "    }\n",
       "\n",
       "    .dataframe thead th {\n",
       "        text-align: right;\n",
       "    }\n",
       "</style>\n",
       "<table border=\"1\" class=\"dataframe\">\n",
       "  <thead>\n",
       "    <tr style=\"text-align: right;\">\n",
       "      <th></th>\n",
       "      <th>price</th>\n",
       "      <th>highway-mpg</th>\n",
       "      <th>city-mpg</th>\n",
       "      <th>peak-rpm</th>\n",
       "      <th>horsepower</th>\n",
       "      <th>compression-ratio</th>\n",
       "      <th>stroke</th>\n",
       "      <th>bore</th>\n",
       "      <th>engine-size</th>\n",
       "      <th>num-of-cylinders</th>\n",
       "      <th>curb-weight</th>\n",
       "      <th>height</th>\n",
       "      <th>width</th>\n",
       "      <th>length</th>\n",
       "      <th>wheel-base</th>\n",
       "      <th>num-of-doors</th>\n",
       "      <th>normalized-losses</th>\n",
       "    </tr>\n",
       "  </thead>\n",
       "  <tbody>\n",
       "    <tr>\n",
       "      <th>price</th>\n",
       "      <td>1.000000</td>\n",
       "      <td>-0.704692</td>\n",
       "      <td>-0.686571</td>\n",
       "      <td>-0.101649</td>\n",
       "      <td>0.810533</td>\n",
       "      <td>0.071107</td>\n",
       "      <td>0.082310</td>\n",
       "      <td>0.543436</td>\n",
       "      <td>0.872335</td>\n",
       "      <td>0.708645</td>\n",
       "      <td>0.834415</td>\n",
       "      <td>0.135486</td>\n",
       "      <td>0.751265</td>\n",
       "      <td>0.690628</td>\n",
       "      <td>0.584642</td>\n",
       "      <td>0.046532</td>\n",
       "      <td>0.203254</td>\n",
       "    </tr>\n",
       "    <tr>\n",
       "      <th>highway-mpg</th>\n",
       "      <td>-0.704692</td>\n",
       "      <td>1.000000</td>\n",
       "      <td>0.971337</td>\n",
       "      <td>-0.054257</td>\n",
       "      <td>-0.770908</td>\n",
       "      <td>0.265201</td>\n",
       "      <td>-0.044528</td>\n",
       "      <td>-0.594572</td>\n",
       "      <td>-0.677470</td>\n",
       "      <td>-0.466666</td>\n",
       "      <td>-0.797465</td>\n",
       "      <td>-0.107358</td>\n",
       "      <td>-0.677218</td>\n",
       "      <td>-0.704662</td>\n",
       "      <td>-0.544082</td>\n",
       "      <td>-0.044507</td>\n",
       "      <td>-0.210768</td>\n",
       "    </tr>\n",
       "    <tr>\n",
       "      <th>city-mpg</th>\n",
       "      <td>-0.686571</td>\n",
       "      <td>0.971337</td>\n",
       "      <td>1.000000</td>\n",
       "      <td>-0.113788</td>\n",
       "      <td>-0.803620</td>\n",
       "      <td>0.324701</td>\n",
       "      <td>-0.042906</td>\n",
       "      <td>-0.594584</td>\n",
       "      <td>-0.653658</td>\n",
       "      <td>-0.445837</td>\n",
       "      <td>-0.757414</td>\n",
       "      <td>-0.048640</td>\n",
       "      <td>-0.642704</td>\n",
       "      <td>-0.670909</td>\n",
       "      <td>-0.470414</td>\n",
       "      <td>-0.020812</td>\n",
       "      <td>-0.258502</td>\n",
       "    </tr>\n",
       "    <tr>\n",
       "      <th>peak-rpm</th>\n",
       "      <td>-0.101649</td>\n",
       "      <td>-0.054257</td>\n",
       "      <td>-0.113788</td>\n",
       "      <td>1.000000</td>\n",
       "      <td>0.130971</td>\n",
       "      <td>-0.436221</td>\n",
       "      <td>-0.071493</td>\n",
       "      <td>-0.264269</td>\n",
       "      <td>-0.244618</td>\n",
       "      <td>-0.124434</td>\n",
       "      <td>-0.266306</td>\n",
       "      <td>-0.322272</td>\n",
       "      <td>-0.219957</td>\n",
       "      <td>-0.287325</td>\n",
       "      <td>-0.361052</td>\n",
       "      <td>-0.242485</td>\n",
       "      <td>0.264597</td>\n",
       "    </tr>\n",
       "    <tr>\n",
       "      <th>horsepower</th>\n",
       "      <td>0.810533</td>\n",
       "      <td>-0.770908</td>\n",
       "      <td>-0.803620</td>\n",
       "      <td>0.130971</td>\n",
       "      <td>1.000000</td>\n",
       "      <td>-0.205874</td>\n",
       "      <td>0.090254</td>\n",
       "      <td>0.577273</td>\n",
       "      <td>0.810773</td>\n",
       "      <td>0.691633</td>\n",
       "      <td>0.751034</td>\n",
       "      <td>-0.110711</td>\n",
       "      <td>0.642482</td>\n",
       "      <td>0.555003</td>\n",
       "      <td>0.352297</td>\n",
       "      <td>-0.124963</td>\n",
       "      <td>0.295772</td>\n",
       "    </tr>\n",
       "    <tr>\n",
       "      <th>compression-ratio</th>\n",
       "      <td>0.071107</td>\n",
       "      <td>0.265201</td>\n",
       "      <td>0.324701</td>\n",
       "      <td>-0.436221</td>\n",
       "      <td>-0.205874</td>\n",
       "      <td>1.000000</td>\n",
       "      <td>0.186170</td>\n",
       "      <td>0.005203</td>\n",
       "      <td>0.028971</td>\n",
       "      <td>-0.020002</td>\n",
       "      <td>0.151362</td>\n",
       "      <td>0.261214</td>\n",
       "      <td>0.181129</td>\n",
       "      <td>0.158414</td>\n",
       "      <td>0.249786</td>\n",
       "      <td>0.165799</td>\n",
       "      <td>-0.132654</td>\n",
       "    </tr>\n",
       "    <tr>\n",
       "      <th>stroke</th>\n",
       "      <td>0.082310</td>\n",
       "      <td>-0.044528</td>\n",
       "      <td>-0.042906</td>\n",
       "      <td>-0.071493</td>\n",
       "      <td>0.090254</td>\n",
       "      <td>0.186170</td>\n",
       "      <td>1.000000</td>\n",
       "      <td>-0.055909</td>\n",
       "      <td>0.206675</td>\n",
       "      <td>0.008578</td>\n",
       "      <td>0.168929</td>\n",
       "      <td>-0.056999</td>\n",
       "      <td>0.182956</td>\n",
       "      <td>0.129739</td>\n",
       "      <td>0.161477</td>\n",
       "      <td>-0.010697</td>\n",
       "      <td>0.065627</td>\n",
       "    </tr>\n",
       "    <tr>\n",
       "      <th>bore</th>\n",
       "      <td>0.543436</td>\n",
       "      <td>-0.594572</td>\n",
       "      <td>-0.594584</td>\n",
       "      <td>-0.264269</td>\n",
       "      <td>0.577273</td>\n",
       "      <td>0.005203</td>\n",
       "      <td>-0.055909</td>\n",
       "      <td>1.000000</td>\n",
       "      <td>0.594090</td>\n",
       "      <td>0.243553</td>\n",
       "      <td>0.649045</td>\n",
       "      <td>0.176195</td>\n",
       "      <td>0.559204</td>\n",
       "      <td>0.607480</td>\n",
       "      <td>0.490378</td>\n",
       "      <td>0.114501</td>\n",
       "      <td>-0.036167</td>\n",
       "    </tr>\n",
       "    <tr>\n",
       "      <th>engine-size</th>\n",
       "      <td>0.872335</td>\n",
       "      <td>-0.677470</td>\n",
       "      <td>-0.653658</td>\n",
       "      <td>-0.244618</td>\n",
       "      <td>0.810773</td>\n",
       "      <td>0.028971</td>\n",
       "      <td>0.206675</td>\n",
       "      <td>0.594090</td>\n",
       "      <td>1.000000</td>\n",
       "      <td>0.846031</td>\n",
       "      <td>0.850594</td>\n",
       "      <td>0.067149</td>\n",
       "      <td>0.735433</td>\n",
       "      <td>0.683360</td>\n",
       "      <td>0.569329</td>\n",
       "      <td>0.017519</td>\n",
       "      <td>0.167365</td>\n",
       "    </tr>\n",
       "    <tr>\n",
       "      <th>num-of-cylinders</th>\n",
       "      <td>0.708645</td>\n",
       "      <td>-0.466666</td>\n",
       "      <td>-0.445837</td>\n",
       "      <td>-0.124434</td>\n",
       "      <td>0.691633</td>\n",
       "      <td>-0.020002</td>\n",
       "      <td>0.008578</td>\n",
       "      <td>0.243553</td>\n",
       "      <td>0.846031</td>\n",
       "      <td>1.000000</td>\n",
       "      <td>0.609727</td>\n",
       "      <td>-0.013995</td>\n",
       "      <td>0.545007</td>\n",
       "      <td>0.430672</td>\n",
       "      <td>0.339507</td>\n",
       "      <td>-0.016530</td>\n",
       "      <td>0.175380</td>\n",
       "    </tr>\n",
       "    <tr>\n",
       "      <th>curb-weight</th>\n",
       "      <td>0.834415</td>\n",
       "      <td>-0.797465</td>\n",
       "      <td>-0.757414</td>\n",
       "      <td>-0.266306</td>\n",
       "      <td>0.751034</td>\n",
       "      <td>0.151362</td>\n",
       "      <td>0.168929</td>\n",
       "      <td>0.649045</td>\n",
       "      <td>0.850594</td>\n",
       "      <td>0.609727</td>\n",
       "      <td>1.000000</td>\n",
       "      <td>0.295572</td>\n",
       "      <td>0.867032</td>\n",
       "      <td>0.877728</td>\n",
       "      <td>0.776386</td>\n",
       "      <td>0.195683</td>\n",
       "      <td>0.119893</td>\n",
       "    </tr>\n",
       "    <tr>\n",
       "      <th>height</th>\n",
       "      <td>0.135486</td>\n",
       "      <td>-0.107358</td>\n",
       "      <td>-0.048640</td>\n",
       "      <td>-0.322272</td>\n",
       "      <td>-0.110711</td>\n",
       "      <td>0.261214</td>\n",
       "      <td>-0.056999</td>\n",
       "      <td>0.176195</td>\n",
       "      <td>0.067149</td>\n",
       "      <td>-0.013995</td>\n",
       "      <td>0.295572</td>\n",
       "      <td>1.000000</td>\n",
       "      <td>0.279210</td>\n",
       "      <td>0.491029</td>\n",
       "      <td>0.589435</td>\n",
       "      <td>0.547651</td>\n",
       "      <td>-0.432335</td>\n",
       "    </tr>\n",
       "    <tr>\n",
       "      <th>width</th>\n",
       "      <td>0.751265</td>\n",
       "      <td>-0.677218</td>\n",
       "      <td>-0.642704</td>\n",
       "      <td>-0.219957</td>\n",
       "      <td>0.642482</td>\n",
       "      <td>0.181129</td>\n",
       "      <td>0.182956</td>\n",
       "      <td>0.559204</td>\n",
       "      <td>0.735433</td>\n",
       "      <td>0.545007</td>\n",
       "      <td>0.867032</td>\n",
       "      <td>0.279210</td>\n",
       "      <td>1.000000</td>\n",
       "      <td>0.841118</td>\n",
       "      <td>0.795144</td>\n",
       "      <td>0.202072</td>\n",
       "      <td>0.105073</td>\n",
       "    </tr>\n",
       "    <tr>\n",
       "      <th>length</th>\n",
       "      <td>0.690628</td>\n",
       "      <td>-0.704662</td>\n",
       "      <td>-0.670909</td>\n",
       "      <td>-0.287325</td>\n",
       "      <td>0.555003</td>\n",
       "      <td>0.158414</td>\n",
       "      <td>0.129739</td>\n",
       "      <td>0.607480</td>\n",
       "      <td>0.683360</td>\n",
       "      <td>0.430672</td>\n",
       "      <td>0.877728</td>\n",
       "      <td>0.491029</td>\n",
       "      <td>0.841118</td>\n",
       "      <td>1.000000</td>\n",
       "      <td>0.874587</td>\n",
       "      <td>0.393593</td>\n",
       "      <td>0.023220</td>\n",
       "    </tr>\n",
       "    <tr>\n",
       "      <th>wheel-base</th>\n",
       "      <td>0.584642</td>\n",
       "      <td>-0.544082</td>\n",
       "      <td>-0.470414</td>\n",
       "      <td>-0.361052</td>\n",
       "      <td>0.352297</td>\n",
       "      <td>0.249786</td>\n",
       "      <td>0.161477</td>\n",
       "      <td>0.490378</td>\n",
       "      <td>0.569329</td>\n",
       "      <td>0.339507</td>\n",
       "      <td>0.776386</td>\n",
       "      <td>0.589435</td>\n",
       "      <td>0.795144</td>\n",
       "      <td>0.874587</td>\n",
       "      <td>1.000000</td>\n",
       "      <td>0.445696</td>\n",
       "      <td>-0.074362</td>\n",
       "    </tr>\n",
       "    <tr>\n",
       "      <th>num-of-doors</th>\n",
       "      <td>0.046532</td>\n",
       "      <td>-0.044507</td>\n",
       "      <td>-0.020812</td>\n",
       "      <td>-0.242485</td>\n",
       "      <td>-0.124963</td>\n",
       "      <td>0.165799</td>\n",
       "      <td>-0.010697</td>\n",
       "      <td>0.114501</td>\n",
       "      <td>0.017519</td>\n",
       "      <td>-0.016530</td>\n",
       "      <td>0.195683</td>\n",
       "      <td>0.547651</td>\n",
       "      <td>0.202072</td>\n",
       "      <td>0.393593</td>\n",
       "      <td>0.445696</td>\n",
       "      <td>1.000000</td>\n",
       "      <td>-0.407134</td>\n",
       "    </tr>\n",
       "    <tr>\n",
       "      <th>normalized-losses</th>\n",
       "      <td>0.203254</td>\n",
       "      <td>-0.210768</td>\n",
       "      <td>-0.258502</td>\n",
       "      <td>0.264597</td>\n",
       "      <td>0.295772</td>\n",
       "      <td>-0.132654</td>\n",
       "      <td>0.065627</td>\n",
       "      <td>-0.036167</td>\n",
       "      <td>0.167365</td>\n",
       "      <td>0.175380</td>\n",
       "      <td>0.119893</td>\n",
       "      <td>-0.432335</td>\n",
       "      <td>0.105073</td>\n",
       "      <td>0.023220</td>\n",
       "      <td>-0.074362</td>\n",
       "      <td>-0.407134</td>\n",
       "      <td>1.000000</td>\n",
       "    </tr>\n",
       "  </tbody>\n",
       "</table>\n",
       "</div>"
      ],
      "text/plain": [
       "                      price  highway-mpg  city-mpg  peak-rpm  horsepower  \\\n",
       "price              1.000000    -0.704692 -0.686571 -0.101649    0.810533   \n",
       "highway-mpg       -0.704692     1.000000  0.971337 -0.054257   -0.770908   \n",
       "city-mpg          -0.686571     0.971337  1.000000 -0.113788   -0.803620   \n",
       "peak-rpm          -0.101649    -0.054257 -0.113788  1.000000    0.130971   \n",
       "horsepower         0.810533    -0.770908 -0.803620  0.130971    1.000000   \n",
       "compression-ratio  0.071107     0.265201  0.324701 -0.436221   -0.205874   \n",
       "stroke             0.082310    -0.044528 -0.042906 -0.071493    0.090254   \n",
       "bore               0.543436    -0.594572 -0.594584 -0.264269    0.577273   \n",
       "engine-size        0.872335    -0.677470 -0.653658 -0.244618    0.810773   \n",
       "num-of-cylinders   0.708645    -0.466666 -0.445837 -0.124434    0.691633   \n",
       "curb-weight        0.834415    -0.797465 -0.757414 -0.266306    0.751034   \n",
       "height             0.135486    -0.107358 -0.048640 -0.322272   -0.110711   \n",
       "width              0.751265    -0.677218 -0.642704 -0.219957    0.642482   \n",
       "length             0.690628    -0.704662 -0.670909 -0.287325    0.555003   \n",
       "wheel-base         0.584642    -0.544082 -0.470414 -0.361052    0.352297   \n",
       "num-of-doors       0.046532    -0.044507 -0.020812 -0.242485   -0.124963   \n",
       "normalized-losses  0.203254    -0.210768 -0.258502  0.264597    0.295772   \n",
       "\n",
       "                   compression-ratio    stroke      bore  engine-size  \\\n",
       "price                       0.071107  0.082310  0.543436     0.872335   \n",
       "highway-mpg                 0.265201 -0.044528 -0.594572    -0.677470   \n",
       "city-mpg                    0.324701 -0.042906 -0.594584    -0.653658   \n",
       "peak-rpm                   -0.436221 -0.071493 -0.264269    -0.244618   \n",
       "horsepower                 -0.205874  0.090254  0.577273     0.810773   \n",
       "compression-ratio           1.000000  0.186170  0.005203     0.028971   \n",
       "stroke                      0.186170  1.000000 -0.055909     0.206675   \n",
       "bore                        0.005203 -0.055909  1.000000     0.594090   \n",
       "engine-size                 0.028971  0.206675  0.594090     1.000000   \n",
       "num-of-cylinders           -0.020002  0.008578  0.243553     0.846031   \n",
       "curb-weight                 0.151362  0.168929  0.649045     0.850594   \n",
       "height                      0.261214 -0.056999  0.176195     0.067149   \n",
       "width                       0.181129  0.182956  0.559204     0.735433   \n",
       "length                      0.158414  0.129739  0.607480     0.683360   \n",
       "wheel-base                  0.249786  0.161477  0.490378     0.569329   \n",
       "num-of-doors                0.165799 -0.010697  0.114501     0.017519   \n",
       "normalized-losses          -0.132654  0.065627 -0.036167     0.167365   \n",
       "\n",
       "                   num-of-cylinders  curb-weight    height     width  \\\n",
       "price                      0.708645     0.834415  0.135486  0.751265   \n",
       "highway-mpg               -0.466666    -0.797465 -0.107358 -0.677218   \n",
       "city-mpg                  -0.445837    -0.757414 -0.048640 -0.642704   \n",
       "peak-rpm                  -0.124434    -0.266306 -0.322272 -0.219957   \n",
       "horsepower                 0.691633     0.751034 -0.110711  0.642482   \n",
       "compression-ratio         -0.020002     0.151362  0.261214  0.181129   \n",
       "stroke                     0.008578     0.168929 -0.056999  0.182956   \n",
       "bore                       0.243553     0.649045  0.176195  0.559204   \n",
       "engine-size                0.846031     0.850594  0.067149  0.735433   \n",
       "num-of-cylinders           1.000000     0.609727 -0.013995  0.545007   \n",
       "curb-weight                0.609727     1.000000  0.295572  0.867032   \n",
       "height                    -0.013995     0.295572  1.000000  0.279210   \n",
       "width                      0.545007     0.867032  0.279210  1.000000   \n",
       "length                     0.430672     0.877728  0.491029  0.841118   \n",
       "wheel-base                 0.339507     0.776386  0.589435  0.795144   \n",
       "num-of-doors              -0.016530     0.195683  0.547651  0.202072   \n",
       "normalized-losses          0.175380     0.119893 -0.432335  0.105073   \n",
       "\n",
       "                     length  wheel-base  num-of-doors  normalized-losses  \n",
       "price              0.690628    0.584642      0.046532           0.203254  \n",
       "highway-mpg       -0.704662   -0.544082     -0.044507          -0.210768  \n",
       "city-mpg          -0.670909   -0.470414     -0.020812          -0.258502  \n",
       "peak-rpm          -0.287325   -0.361052     -0.242485           0.264597  \n",
       "horsepower         0.555003    0.352297     -0.124963           0.295772  \n",
       "compression-ratio  0.158414    0.249786      0.165799          -0.132654  \n",
       "stroke             0.129739    0.161477     -0.010697           0.065627  \n",
       "bore               0.607480    0.490378      0.114501          -0.036167  \n",
       "engine-size        0.683360    0.569329      0.017519           0.167365  \n",
       "num-of-cylinders   0.430672    0.339507     -0.016530           0.175380  \n",
       "curb-weight        0.877728    0.776386      0.195683           0.119893  \n",
       "height             0.491029    0.589435      0.547651          -0.432335  \n",
       "width              0.841118    0.795144      0.202072           0.105073  \n",
       "length             1.000000    0.874587      0.393593           0.023220  \n",
       "wheel-base         0.874587    1.000000      0.445696          -0.074362  \n",
       "num-of-doors       0.393593    0.445696      1.000000          -0.407134  \n",
       "normalized-losses  0.023220   -0.074362     -0.407134           1.000000  "
      ]
     },
     "execution_count": 6,
     "metadata": {},
     "output_type": "execute_result"
    }
   ],
   "source": [
    "df.corr()#the corelaton between the variables in the dataframe "
   ]
  },
  {
   "cell_type": "markdown",
   "id": "57c66be9",
   "metadata": {},
   "source": [
    "### to find the corelaton between specific features:"
   ]
  },
  {
   "cell_type": "code",
   "execution_count": 7,
   "id": "a0a33eb4",
   "metadata": {},
   "outputs": [
    {
     "data": {
      "text/html": [
       "<div>\n",
       "<style scoped>\n",
       "    .dataframe tbody tr th:only-of-type {\n",
       "        vertical-align: middle;\n",
       "    }\n",
       "\n",
       "    .dataframe tbody tr th {\n",
       "        vertical-align: top;\n",
       "    }\n",
       "\n",
       "    .dataframe thead th {\n",
       "        text-align: right;\n",
       "    }\n",
       "</style>\n",
       "<table border=\"1\" class=\"dataframe\">\n",
       "  <thead>\n",
       "    <tr style=\"text-align: right;\">\n",
       "      <th></th>\n",
       "      <th>bore</th>\n",
       "      <th>engine-size</th>\n",
       "      <th>stroke</th>\n",
       "      <th>horsepower</th>\n",
       "    </tr>\n",
       "  </thead>\n",
       "  <tbody>\n",
       "    <tr>\n",
       "      <th>bore</th>\n",
       "      <td>1.000000</td>\n",
       "      <td>0.594090</td>\n",
       "      <td>-0.055909</td>\n",
       "      <td>0.577273</td>\n",
       "    </tr>\n",
       "    <tr>\n",
       "      <th>engine-size</th>\n",
       "      <td>0.594090</td>\n",
       "      <td>1.000000</td>\n",
       "      <td>0.206675</td>\n",
       "      <td>0.810773</td>\n",
       "    </tr>\n",
       "    <tr>\n",
       "      <th>stroke</th>\n",
       "      <td>-0.055909</td>\n",
       "      <td>0.206675</td>\n",
       "      <td>1.000000</td>\n",
       "      <td>0.090254</td>\n",
       "    </tr>\n",
       "    <tr>\n",
       "      <th>horsepower</th>\n",
       "      <td>0.577273</td>\n",
       "      <td>0.810773</td>\n",
       "      <td>0.090254</td>\n",
       "      <td>1.000000</td>\n",
       "    </tr>\n",
       "  </tbody>\n",
       "</table>\n",
       "</div>"
      ],
      "text/plain": [
       "                 bore  engine-size    stroke  horsepower\n",
       "bore         1.000000     0.594090 -0.055909    0.577273\n",
       "engine-size  0.594090     1.000000  0.206675    0.810773\n",
       "stroke      -0.055909     0.206675  1.000000    0.090254\n",
       "horsepower   0.577273     0.810773  0.090254    1.000000"
      ]
     },
     "execution_count": 7,
     "metadata": {},
     "output_type": "execute_result"
    }
   ],
   "source": [
    "df[['bore','engine-size','stroke','horsepower']].corr()"
   ]
  },
  {
   "cell_type": "markdown",
   "id": "91ecae2c",
   "metadata": {},
   "source": [
    "## REGRESSION PLOTS "
   ]
  },
  {
   "cell_type": "code",
   "execution_count": 8,
   "id": "3e702cae",
   "metadata": {},
   "outputs": [
    {
     "data": {
      "text/html": [
       "<div>\n",
       "<style scoped>\n",
       "    .dataframe tbody tr th:only-of-type {\n",
       "        vertical-align: middle;\n",
       "    }\n",
       "\n",
       "    .dataframe tbody tr th {\n",
       "        vertical-align: top;\n",
       "    }\n",
       "\n",
       "    .dataframe thead th {\n",
       "        text-align: right;\n",
       "    }\n",
       "</style>\n",
       "<table border=\"1\" class=\"dataframe\">\n",
       "  <thead>\n",
       "    <tr style=\"text-align: right;\">\n",
       "      <th></th>\n",
       "      <th>engine-size</th>\n",
       "      <th>price</th>\n",
       "    </tr>\n",
       "  </thead>\n",
       "  <tbody>\n",
       "    <tr>\n",
       "      <th>engine-size</th>\n",
       "      <td>1.000000</td>\n",
       "      <td>0.872335</td>\n",
       "    </tr>\n",
       "    <tr>\n",
       "      <th>price</th>\n",
       "      <td>0.872335</td>\n",
       "      <td>1.000000</td>\n",
       "    </tr>\n",
       "  </tbody>\n",
       "</table>\n",
       "</div>"
      ],
      "text/plain": [
       "             engine-size     price\n",
       "engine-size     1.000000  0.872335\n",
       "price           0.872335  1.000000"
      ]
     },
     "execution_count": 8,
     "metadata": {},
     "output_type": "execute_result"
    },
    {
     "data": {
      "image/png": "[encoded data removed]",
      "text/plain": [
       "<Figure size 432x288 with 1 Axes>"
      ]
     },
     "metadata": {
      "needs_background": "light"
     },
     "output_type": "display_data"
    }
   ],
   "source": [
    "sns.regplot(x='engine-size',y='price',data=df)\n",
    "df[['engine-size','price']].corr()"
   ]
  },
  {
   "cell_type": "markdown",
   "id": "4b7a7e59",
   "metadata": {},
   "source": [
    "### from the above graph it's evident that the engine-size and price are well corelated and ,price ca be predicted from engine size "
   ]
  },
  {
   "cell_type": "markdown",
   "id": "0449cecd",
   "metadata": {},
   "source": [
    "## Box_Plots\n"
   ]
  },
  {
   "cell_type": "code",
   "execution_count": 9,
   "id": "af5dc542",
   "metadata": {},
   "outputs": [
    {
     "data": {
      "text/plain": [
       "<AxesSubplot:xlabel='body-style', ylabel='price'>"
      ]
     },
     "execution_count": 9,
     "metadata": {},
     "output_type": "execute_result"
    },
    {
     "data": {
      "image/png": "[encoded data removed]",
      "text/plain": [
       "<Figure size 432x288 with 1 Axes>"
      ]
     },
     "metadata": {
      "needs_background": "light"
     },
     "output_type": "display_data"
    }
   ],
   "source": [
    "#let us take a categorical variable let's say body-style\n",
    "sns.boxplot(x='body-style',y='price',data=df)"
   ]
  },
  {
   "cell_type": "markdown",
   "id": "1d7b5202",
   "metadata": {},
   "source": [
    "<p>We see that the distributions of price between the different body-style categories have a significant overlap, so body-style would not be a good predictor of price. Let's examine engine \"engine-location\" and \"price\":</p>\n"
   ]
  },
  {
   "cell_type": "code",
   "execution_count": 10,
   "id": "90120b28",
   "metadata": {},
   "outputs": [
    {
     "data": {
      "text/plain": [
       "<AxesSubplot:xlabel='engine-location', ylabel='price'>"
      ]
     },
     "execution_count": 10,
     "metadata": {},
     "output_type": "execute_result"
    },
    {
     "data": {
      "image/png": "[encoded data removed]",
      "text/plain": [
       "<Figure size 432x288 with 1 Axes>"
      ]
     },
     "metadata": {
      "needs_background": "light"
     },
     "output_type": "display_data"
    }
   ],
   "source": [
    "sns.boxplot(x='engine-location',y='price',data=df)"
   ]
  },
  {
   "cell_type": "markdown",
   "id": "e201de9e",
   "metadata": {},
   "source": [
    "This could be a good sign! as the distributions are far apart, we ca say that engine-location can be a good predictor of price."
   ]
  },
  {
   "cell_type": "code",
   "execution_count": 11,
   "id": "2a6ebfc2",
   "metadata": {},
   "outputs": [
    {
     "data": {
      "text/html": [
       "<div>\n",
       "<style scoped>\n",
       "    .dataframe tbody tr th:only-of-type {\n",
       "        vertical-align: middle;\n",
       "    }\n",
       "\n",
       "    .dataframe tbody tr th {\n",
       "        vertical-align: top;\n",
       "    }\n",
       "\n",
       "    .dataframe thead th {\n",
       "        text-align: right;\n",
       "    }\n",
       "</style>\n",
       "<table border=\"1\" class=\"dataframe\">\n",
       "  <thead>\n",
       "    <tr style=\"text-align: right;\">\n",
       "      <th></th>\n",
       "      <th>fuel-system</th>\n",
       "      <th>engine-type</th>\n",
       "      <th>engine-location</th>\n",
       "      <th>drive-wheels</th>\n",
       "      <th>body-style</th>\n",
       "      <th>aspiration</th>\n",
       "      <th>fuel-type</th>\n",
       "      <th>make</th>\n",
       "    </tr>\n",
       "  </thead>\n",
       "  <tbody>\n",
       "    <tr>\n",
       "      <th>count</th>\n",
       "      <td>205</td>\n",
       "      <td>205</td>\n",
       "      <td>205</td>\n",
       "      <td>205</td>\n",
       "      <td>205</td>\n",
       "      <td>205</td>\n",
       "      <td>205</td>\n",
       "      <td>205</td>\n",
       "    </tr>\n",
       "    <tr>\n",
       "      <th>unique</th>\n",
       "      <td>8</td>\n",
       "      <td>7</td>\n",
       "      <td>2</td>\n",
       "      <td>3</td>\n",
       "      <td>5</td>\n",
       "      <td>2</td>\n",
       "      <td>2</td>\n",
       "      <td>22</td>\n",
       "    </tr>\n",
       "    <tr>\n",
       "      <th>top</th>\n",
       "      <td>mpfi</td>\n",
       "      <td>ohc</td>\n",
       "      <td>front</td>\n",
       "      <td>fwd</td>\n",
       "      <td>sedan</td>\n",
       "      <td>std</td>\n",
       "      <td>gas</td>\n",
       "      <td>toyota</td>\n",
       "    </tr>\n",
       "    <tr>\n",
       "      <th>freq</th>\n",
       "      <td>94</td>\n",
       "      <td>148</td>\n",
       "      <td>202</td>\n",
       "      <td>120</td>\n",
       "      <td>96</td>\n",
       "      <td>168</td>\n",
       "      <td>185</td>\n",
       "      <td>32</td>\n",
       "    </tr>\n",
       "  </tbody>\n",
       "</table>\n",
       "</div>"
      ],
      "text/plain": [
       "       fuel-system engine-type engine-location drive-wheels body-style  \\\n",
       "count          205         205             205          205        205   \n",
       "unique           8           7               2            3          5   \n",
       "top           mpfi         ohc           front          fwd      sedan   \n",
       "freq            94         148             202          120         96   \n",
       "\n",
       "       aspiration fuel-type    make  \n",
       "count         205       205     205  \n",
       "unique          2         2      22  \n",
       "top           std       gas  toyota  \n",
       "freq          168       185      32  "
      ]
     },
     "execution_count": 11,
     "metadata": {},
     "output_type": "execute_result"
    }
   ],
   "source": [
    "df.describe(include=['object'])"
   ]
  },
  {
   "cell_type": "code",
   "execution_count": 12,
   "id": "aa92c35e",
   "metadata": {},
   "outputs": [
    {
     "name": "stdout",
     "output_type": "stream",
     "text": [
      "fwd    120\n",
      "rwd     76\n",
      "4wd      9\n",
      "Name: drive-wheels, dtype: int64\n"
     ]
    },
    {
     "data": {
      "text/plain": [
       "8921.0     2\n",
       "18150.0    2\n",
       "8845.0     2\n",
       "8495.0     2\n",
       "7609.0     2\n",
       "          ..\n",
       "45400.0    1\n",
       "16503.0    1\n",
       "5389.0     1\n",
       "6189.0     1\n",
       "22625.0    1\n",
       "Name: price, Length: 186, dtype: int64"
      ]
     },
     "execution_count": 12,
     "metadata": {},
     "output_type": "execute_result"
    }
   ],
   "source": [
    "print(df['drive-wheels'].value_counts())\n",
    "df['price'].value_counts()"
   ]
  },
  {
   "cell_type": "code",
   "execution_count": 13,
   "id": "f6c10da6",
   "metadata": {},
   "outputs": [
    {
     "data": {
      "text/html": [
       "<div>\n",
       "<style scoped>\n",
       "    .dataframe tbody tr th:only-of-type {\n",
       "        vertical-align: middle;\n",
       "    }\n",
       "\n",
       "    .dataframe tbody tr th {\n",
       "        vertical-align: top;\n",
       "    }\n",
       "\n",
       "    .dataframe thead th {\n",
       "        text-align: right;\n",
       "    }\n",
       "</style>\n",
       "<table border=\"1\" class=\"dataframe\">\n",
       "  <thead>\n",
       "    <tr style=\"text-align: right;\">\n",
       "      <th></th>\n",
       "      <th>value-counts</th>\n",
       "    </tr>\n",
       "    <tr>\n",
       "      <th>drive-wheels</th>\n",
       "      <th></th>\n",
       "    </tr>\n",
       "  </thead>\n",
       "  <tbody>\n",
       "    <tr>\n",
       "      <th>fwd</th>\n",
       "      <td>120</td>\n",
       "    </tr>\n",
       "    <tr>\n",
       "      <th>rwd</th>\n",
       "      <td>76</td>\n",
       "    </tr>\n",
       "    <tr>\n",
       "      <th>4wd</th>\n",
       "      <td>9</td>\n",
       "    </tr>\n",
       "  </tbody>\n",
       "</table>\n",
       "</div>"
      ],
      "text/plain": [
       "              value-counts\n",
       "drive-wheels              \n",
       "fwd                    120\n",
       "rwd                     76\n",
       "4wd                      9"
      ]
     },
     "execution_count": 13,
     "metadata": {},
     "output_type": "execute_result"
    }
   ],
   "source": [
    "drive_counts=df['drive-wheels'].value_counts().to_frame()\n",
    "drive_counts.rename(columns={'drive-wheels':'value-counts'},inplace=True)\n",
    "drive_counts.index.name='drive-wheels'\n",
    "drive_counts"
   ]
  },
  {
   "cell_type": "code",
   "execution_count": 14,
   "id": "0dfef153",
   "metadata": {},
   "outputs": [
    {
     "data": {
      "text/html": [
       "<div>\n",
       "<style scoped>\n",
       "    .dataframe tbody tr th:only-of-type {\n",
       "        vertical-align: middle;\n",
       "    }\n",
       "\n",
       "    .dataframe tbody tr th {\n",
       "        vertical-align: top;\n",
       "    }\n",
       "\n",
       "    .dataframe thead th {\n",
       "        text-align: right;\n",
       "    }\n",
       "</style>\n",
       "<table border=\"1\" class=\"dataframe\">\n",
       "  <thead>\n",
       "    <tr style=\"text-align: right;\">\n",
       "      <th></th>\n",
       "      <th>value-counts</th>\n",
       "    </tr>\n",
       "    <tr>\n",
       "      <th>engine-location</th>\n",
       "      <th></th>\n",
       "    </tr>\n",
       "  </thead>\n",
       "  <tbody>\n",
       "    <tr>\n",
       "      <th>front</th>\n",
       "      <td>202</td>\n",
       "    </tr>\n",
       "    <tr>\n",
       "      <th>rear</th>\n",
       "      <td>3</td>\n",
       "    </tr>\n",
       "  </tbody>\n",
       "</table>\n",
       "</div>"
      ],
      "text/plain": [
       "                 value-counts\n",
       "engine-location              \n",
       "front                     202\n",
       "rear                        3"
      ]
     },
     "execution_count": 14,
     "metadata": {},
     "output_type": "execute_result"
    }
   ],
   "source": [
    "engine_loc=df['engine-location'].value_counts().to_frame()\n",
    "engine_loc.rename(columns={'engine-location':'value-counts'},inplace=True)\n",
    "engine_loc.index.name='engine-location'\n",
    "engine_loc"
   ]
  },
  {
   "cell_type": "code",
   "execution_count": 15,
   "id": "910e659b",
   "metadata": {},
   "outputs": [
    {
     "data": {
      "text/plain": [
       "array(['rwd', 'fwd', '4wd'], dtype=object)"
      ]
     },
     "execution_count": 15,
     "metadata": {},
     "output_type": "execute_result"
    }
   ],
   "source": [
    "df['drive-wheels'].unique()"
   ]
  },
  {
   "cell_type": "code",
   "execution_count": 16,
   "id": "2c2dd78a",
   "metadata": {},
   "outputs": [
    {
     "data": {
      "text/html": [
       "<div>\n",
       "<style scoped>\n",
       "    .dataframe tbody tr th:only-of-type {\n",
       "        vertical-align: middle;\n",
       "    }\n",
       "\n",
       "    .dataframe tbody tr th {\n",
       "        vertical-align: top;\n",
       "    }\n",
       "\n",
       "    .dataframe thead th {\n",
       "        text-align: right;\n",
       "    }\n",
       "</style>\n",
       "<table border=\"1\" class=\"dataframe\">\n",
       "  <thead>\n",
       "    <tr style=\"text-align: right;\">\n",
       "      <th></th>\n",
       "      <th>drive-wheels</th>\n",
       "      <th>price</th>\n",
       "    </tr>\n",
       "  </thead>\n",
       "  <tbody>\n",
       "    <tr>\n",
       "      <th>0</th>\n",
       "      <td>4wd</td>\n",
       "      <td>10241.000000</td>\n",
       "    </tr>\n",
       "    <tr>\n",
       "      <th>1</th>\n",
       "      <td>fwd</td>\n",
       "      <td>9244.779661</td>\n",
       "    </tr>\n",
       "    <tr>\n",
       "      <th>2</th>\n",
       "      <td>rwd</td>\n",
       "      <td>19757.613333</td>\n",
       "    </tr>\n",
       "  </tbody>\n",
       "</table>\n",
       "</div>"
      ],
      "text/plain": [
       "  drive-wheels         price\n",
       "0          4wd  10241.000000\n",
       "1          fwd   9244.779661\n",
       "2          rwd  19757.613333"
      ]
     },
     "execution_count": 16,
     "metadata": {},
     "output_type": "execute_result"
    }
   ],
   "source": [
    "df_group_one=df[['drive-wheels','body-style','price']]\n",
    "df_group_one=df_group_one.groupby(['drive-wheels'],as_index=False).mean()\n",
    "df_group_one"
   ]
  },
  {
   "cell_type": "code",
   "execution_count": 17,
   "id": "3d759518",
   "metadata": {},
   "outputs": [
    {
     "data": {
      "text/html": [
       "<div>\n",
       "<style scoped>\n",
       "    .dataframe tbody tr th:only-of-type {\n",
       "        vertical-align: middle;\n",
       "    }\n",
       "\n",
       "    .dataframe tbody tr th {\n",
       "        vertical-align: top;\n",
       "    }\n",
       "\n",
       "    .dataframe thead th {\n",
       "        text-align: right;\n",
       "    }\n",
       "</style>\n",
       "<table border=\"1\" class=\"dataframe\">\n",
       "  <thead>\n",
       "    <tr style=\"text-align: right;\">\n",
       "      <th></th>\n",
       "      <th>drive-wheels</th>\n",
       "      <th>body-style</th>\n",
       "      <th>price</th>\n",
       "    </tr>\n",
       "  </thead>\n",
       "  <tbody>\n",
       "    <tr>\n",
       "      <th>0</th>\n",
       "      <td>4wd</td>\n",
       "      <td>hatchback</td>\n",
       "      <td>7603.000000</td>\n",
       "    </tr>\n",
       "    <tr>\n",
       "      <th>1</th>\n",
       "      <td>4wd</td>\n",
       "      <td>sedan</td>\n",
       "      <td>12647.333333</td>\n",
       "    </tr>\n",
       "    <tr>\n",
       "      <th>2</th>\n",
       "      <td>4wd</td>\n",
       "      <td>wagon</td>\n",
       "      <td>9095.750000</td>\n",
       "    </tr>\n",
       "    <tr>\n",
       "      <th>3</th>\n",
       "      <td>fwd</td>\n",
       "      <td>convertible</td>\n",
       "      <td>11595.000000</td>\n",
       "    </tr>\n",
       "    <tr>\n",
       "      <th>4</th>\n",
       "      <td>fwd</td>\n",
       "      <td>hardtop</td>\n",
       "      <td>8249.000000</td>\n",
       "    </tr>\n",
       "    <tr>\n",
       "      <th>5</th>\n",
       "      <td>fwd</td>\n",
       "      <td>hatchback</td>\n",
       "      <td>8396.387755</td>\n",
       "    </tr>\n",
       "    <tr>\n",
       "      <th>6</th>\n",
       "      <td>fwd</td>\n",
       "      <td>sedan</td>\n",
       "      <td>9811.800000</td>\n",
       "    </tr>\n",
       "    <tr>\n",
       "      <th>7</th>\n",
       "      <td>fwd</td>\n",
       "      <td>wagon</td>\n",
       "      <td>9997.333333</td>\n",
       "    </tr>\n",
       "    <tr>\n",
       "      <th>8</th>\n",
       "      <td>rwd</td>\n",
       "      <td>convertible</td>\n",
       "      <td>23949.600000</td>\n",
       "    </tr>\n",
       "    <tr>\n",
       "      <th>9</th>\n",
       "      <td>rwd</td>\n",
       "      <td>hardtop</td>\n",
       "      <td>24202.714286</td>\n",
       "    </tr>\n",
       "    <tr>\n",
       "      <th>10</th>\n",
       "      <td>rwd</td>\n",
       "      <td>hatchback</td>\n",
       "      <td>14337.777778</td>\n",
       "    </tr>\n",
       "    <tr>\n",
       "      <th>11</th>\n",
       "      <td>rwd</td>\n",
       "      <td>sedan</td>\n",
       "      <td>21711.833333</td>\n",
       "    </tr>\n",
       "    <tr>\n",
       "      <th>12</th>\n",
       "      <td>rwd</td>\n",
       "      <td>wagon</td>\n",
       "      <td>16994.222222</td>\n",
       "    </tr>\n",
       "  </tbody>\n",
       "</table>\n",
       "</div>"
      ],
      "text/plain": [
       "   drive-wheels   body-style         price\n",
       "0           4wd    hatchback   7603.000000\n",
       "1           4wd        sedan  12647.333333\n",
       "2           4wd        wagon   9095.750000\n",
       "3           fwd  convertible  11595.000000\n",
       "4           fwd      hardtop   8249.000000\n",
       "5           fwd    hatchback   8396.387755\n",
       "6           fwd        sedan   9811.800000\n",
       "7           fwd        wagon   9997.333333\n",
       "8           rwd  convertible  23949.600000\n",
       "9           rwd      hardtop  24202.714286\n",
       "10          rwd    hatchback  14337.777778\n",
       "11          rwd        sedan  21711.833333\n",
       "12          rwd        wagon  16994.222222"
      ]
     },
     "execution_count": 17,
     "metadata": {},
     "output_type": "execute_result"
    }
   ],
   "source": [
    "df_gptest=df[['drive-wheels','body-style','price']]\n",
    "df_grptest1=df_gptest.groupby(['drive-wheels','body-style'],as_index=False).mean()\n",
    "df_grptest1"
   ]
  },
  {
   "cell_type": "code",
   "execution_count": 18,
   "id": "dd5a3f7f",
   "metadata": {},
   "outputs": [
    {
     "data": {
      "text/html": [
       "<div>\n",
       "<style scoped>\n",
       "    .dataframe tbody tr th:only-of-type {\n",
       "        vertical-align: middle;\n",
       "    }\n",
       "\n",
       "    .dataframe tbody tr th {\n",
       "        vertical-align: top;\n",
       "    }\n",
       "\n",
       "    .dataframe thead tr th {\n",
       "        text-align: left;\n",
       "    }\n",
       "\n",
       "    .dataframe thead tr:last-of-type th {\n",
       "        text-align: right;\n",
       "    }\n",
       "</style>\n",
       "<table border=\"1\" class=\"dataframe\">\n",
       "  <thead>\n",
       "    <tr>\n",
       "      <th></th>\n",
       "      <th colspan=\"5\" halign=\"left\">price</th>\n",
       "    </tr>\n",
       "    <tr>\n",
       "      <th>body-style</th>\n",
       "      <th>convertible</th>\n",
       "      <th>hardtop</th>\n",
       "      <th>hatchback</th>\n",
       "      <th>sedan</th>\n",
       "      <th>wagon</th>\n",
       "    </tr>\n",
       "    <tr>\n",
       "      <th>drive-wheels</th>\n",
       "      <th></th>\n",
       "      <th></th>\n",
       "      <th></th>\n",
       "      <th></th>\n",
       "      <th></th>\n",
       "    </tr>\n",
       "  </thead>\n",
       "  <tbody>\n",
       "    <tr>\n",
       "      <th>4wd</th>\n",
       "      <td>0.0</td>\n",
       "      <td>0.000000</td>\n",
       "      <td>7603.000000</td>\n",
       "      <td>12647.333333</td>\n",
       "      <td>9095.750000</td>\n",
       "    </tr>\n",
       "    <tr>\n",
       "      <th>fwd</th>\n",
       "      <td>11595.0</td>\n",
       "      <td>8249.000000</td>\n",
       "      <td>8396.387755</td>\n",
       "      <td>9811.800000</td>\n",
       "      <td>9997.333333</td>\n",
       "    </tr>\n",
       "    <tr>\n",
       "      <th>rwd</th>\n",
       "      <td>23949.6</td>\n",
       "      <td>24202.714286</td>\n",
       "      <td>14337.777778</td>\n",
       "      <td>21711.833333</td>\n",
       "      <td>16994.222222</td>\n",
       "    </tr>\n",
       "  </tbody>\n",
       "</table>\n",
       "</div>"
      ],
      "text/plain": [
       "                   price                                            \\\n",
       "body-style   convertible       hardtop     hatchback         sedan   \n",
       "drive-wheels                                                         \n",
       "4wd                  0.0      0.000000   7603.000000  12647.333333   \n",
       "fwd              11595.0   8249.000000   8396.387755   9811.800000   \n",
       "rwd              23949.6  24202.714286  14337.777778  21711.833333   \n",
       "\n",
       "                            \n",
       "body-style           wagon  \n",
       "drive-wheels                \n",
       "4wd            9095.750000  \n",
       "fwd            9997.333333  \n",
       "rwd           16994.222222  "
      ]
     },
     "execution_count": 18,
     "metadata": {},
     "output_type": "execute_result"
    }
   ],
   "source": [
    "grouped_pivot=df_grptest1.pivot(index='drive-wheels',columns='body-style')\n",
    "grouped_pivot=grouped_pivot.fillna(0) #filling the missing values \n",
    "grouped_pivot"
   ]
  },
  {
   "cell_type": "code",
   "execution_count": 19,
   "id": "8e075e6d",
   "metadata": {},
   "outputs": [
    {
     "data": {
      "image/png": "[encoded data removed]",
      "text/plain": [
       "<Figure size 432x288 with 2 Axes>"
      ]
     },
     "metadata": {
      "needs_background": "light"
     },
     "output_type": "display_data"
    }
   ],
   "source": [
    "plt.pcolor(grouped_pivot,cmap='RdBu')\n",
    "plt.colorbar()\n",
    "plt.show()"
   ]
  },
  {
   "cell_type": "markdown",
   "id": "52463ab4",
   "metadata": {},
   "source": [
    "# corelation functions"
   ]
  },
  {
   "cell_type": "code",
   "execution_count": 20,
   "id": "9cccb4c1",
   "metadata": {},
   "outputs": [],
   "source": [
    "from scipy import stats\n"
   ]
  },
  {
   "cell_type": "code",
   "execution_count": 21,
   "id": "4b3b7f7b",
   "metadata": {},
   "outputs": [
    {
     "name": "stderr",
     "output_type": "stream",
     "text": [
      "C:\\Users\\sitar\\AppData\\Local\\Temp\\ipykernel_46388\\2046951491.py:1: FutureWarning: Dropping of nuisance columns in DataFrame reductions (with 'numeric_only=None') is deprecated; in a future version this will raise TypeError.  Select only valid columns before calling the reduction.\n",
      "  df_cleaned = df.fillna(df.mean())  # Replace NaNs with column means\n"
     ]
    }
   ],
   "source": [
    "df_cleaned = df.fillna(df.mean())  # Replace NaNs with column means\n",
    "df_cleaned = df_cleaned.replace([np.inf, -np.inf], np.nan)  # Replace Infs with NaNs\n",
    "df_cleaned = df_cleaned.dropna()\n"
   ]
  },
  {
   "cell_type": "code",
   "execution_count": 22,
   "id": "0e643ed5",
   "metadata": {},
   "outputs": [
    {
     "name": "stdout",
     "output_type": "stream",
     "text": [
      "0.5831681499789549 4.527625545686636e-20\n"
     ]
    }
   ],
   "source": [
    "p_coef,p_val=stats.pearsonr(df_cleaned['wheel-base'],df_cleaned['price'])\n",
    "print(p_coef,p_val)\n"
   ]
  },
  {
   "cell_type": "code",
   "execution_count": 23,
   "id": "85529c46",
   "metadata": {},
   "outputs": [
    {
     "name": "stdout",
     "output_type": "stream",
     "text": [
      "0.7579169537498178 1.6076703978129875e-39\n"
     ]
    }
   ],
   "source": [
    "p_coef,p_val=stats.pearsonr(df_cleaned['horsepower'],df_cleaned['price'])\n",
    "print(p_coef,p_val)"
   ]
  },
  {
   "cell_type": "code",
   "execution_count": 24,
   "id": "7b5dad75",
   "metadata": {},
   "outputs": [
    {
     "name": "stdout",
     "output_type": "stream",
     "text": [
      "0.6829862954386218 1.649887329121877e-29\n"
     ]
    }
   ],
   "source": [
    "p_coef,p_val=stats.pearsonr(df_cleaned['length'],df_cleaned['price'])\n",
    "print(p_coef,p_val)"
   ]
  },
  {
   "cell_type": "code",
   "execution_count": 25,
   "id": "279a4ee3",
   "metadata": {},
   "outputs": [
    {
     "name": "stdout",
     "output_type": "stream",
     "text": [
      "0.7286988175931842 3.214520483804299e-35\n"
     ]
    }
   ],
   "source": [
    "p_coef,p_val=stats.pearsonr(df_cleaned['width'],df_cleaned['price'])\n",
    "print(p_coef,p_val)"
   ]
  },
  {
   "cell_type": "code",
   "execution_count": 26,
   "id": "5f08e434",
   "metadata": {},
   "outputs": [
    {
     "name": "stdout",
     "output_type": "stream",
     "text": [
      "0.861752243685972 9.669661923635875e-62\n"
     ]
    }
   ],
   "source": [
    "p_coef,p_val=stats.pearsonr(df_cleaned['engine-size'],df_cleaned['price'])\n",
    "print(p_coef,p_val)"
   ]
  },
  {
   "cell_type": "code",
   "execution_count": 27,
   "id": "8f61da2a",
   "metadata": {},
   "outputs": [
    {
     "name": "stdout",
     "output_type": "stream",
     "text": [
      "0.5323000195387406 2.1398306512856245e-16\n"
     ]
    }
   ],
   "source": [
    "p_coef,p_val=stats.pearsonr(df_cleaned['bore'],df_cleaned['price'])\n",
    "print(p_coef,p_val)"
   ]
  },
  {
   "cell_type": "code",
   "execution_count": 28,
   "id": "f53a7807",
   "metadata": {},
   "outputs": [
    {
     "name": "stdout",
     "output_type": "stream",
     "text": [
      "-0.6674492651600002 8.463700497727927e-28\n"
     ]
    }
   ],
   "source": [
    "p_coef,p_val=stats.pearsonr(df_cleaned['city-mpg'],df_cleaned['price'])\n",
    "print(p_coef,p_val)"
   ]
  },
  {
   "cell_type": "code",
   "execution_count": 29,
   "id": "bc55ff6a",
   "metadata": {},
   "outputs": [
    {
     "name": "stdout",
     "output_type": "stream",
     "text": [
      "-0.6905257341183487 2.2324674058375567e-30\n"
     ]
    }
   ],
   "source": [
    "p_coef,p_val=stats.pearsonr(df_cleaned['highway-mpg'],df_cleaned['price'])\n",
    "print(p_coef,p_val)"
   ]
  },
  {
   "cell_type": "markdown",
   "id": "61e83365",
   "metadata": {},
   "source": [
    "##### now  that all the variables are gathered i have an idea on the vars which are dependent and this info can be used to predict the price of a new car."
   ]
  },
  {
   "cell_type": "markdown",
   "id": "60c7a605",
   "metadata": {},
   "source": [
    "# REGRESSION MODELS "
   ]
  },
  {
   "cell_type": "markdown",
   "id": "46a9eae6",
   "metadata": {},
   "source": [
    "LET US START OFF WITH THE LINEAR REGRESSION \n"
   ]
  },
  {
   "cell_type": "code",
   "execution_count": 30,
   "id": "4ee845c3",
   "metadata": {},
   "outputs": [],
   "source": [
    "from sklearn.linear_model import LinearRegression"
   ]
  },
  {
   "cell_type": "code",
   "execution_count": 31,
   "id": "c4f5ab67",
   "metadata": {},
   "outputs": [
    {
     "name": "stdout",
     "output_type": "stream",
     "text": [
      "33453.24673832327\n",
      "[-802.79575705]\n",
      "[16594.53584029 16594.53584029 18200.12735439 14186.14856915\n",
      " 19002.92311144 18200.12735439 18200.12735439 18200.12735439\n",
      " 19805.71886849 20608.51462554 14988.9443262  14988.9443262\n",
      " 16594.53584029 16594.53584029 17397.33159734 20608.51462554\n",
      " 20608.51462554 21411.31038259 -4278.15384298  2947.00797046\n",
      "  2947.00797046  3749.80372751  8566.5782698  14186.14856915\n",
      "  8566.5782698   8566.5782698   8566.5782698  14186.14856915\n",
      " 14186.14856915 18200.12735439 -5883.74535708  8566.5782698\n",
      "  2947.00797046  9369.37402685  9369.37402685  9369.37402685\n",
      "  9369.37402685 11777.761298   11777.761298   11777.761298\n",
      " 11777.761298   14186.14856915 13383.3528121  14186.14856915\n",
      "  2947.00797046  2947.00797046 14186.14856915 21411.31038259\n",
      " 21411.31038259 23016.90189669  9369.37402685  8566.5782698\n",
      "  8566.5782698   8566.5782698   8566.5782698  19805.71886849\n",
      " 19805.71886849 19805.71886849 20608.51462554 12580.55705505\n",
      " 12580.55705505 12580.55705505 12580.55705505  4552.59948456\n",
      " 12580.55705505 18200.12735439  8566.5782698  15791.74008325\n",
      " 15791.74008325 15791.74008325 15791.74008325 20608.51462554\n",
      " 20608.51462554 22214.10613964 22214.10613964 18200.12735439\n",
      "  3749.80372751  8566.5782698   8566.5782698  14186.14856915\n",
      " 14988.9443262  13383.3528121  18200.12735439 18200.12735439\n",
      " 18200.12735439 13383.3528121  13383.3528121  14988.9443262\n",
      " 14988.9443262   8566.5782698  -2672.56232888  8566.5782698\n",
      "  8566.5782698   8566.5782698   8566.5782698   8566.5782698\n",
      "  8566.5782698   8566.5782698   8566.5782698  11777.761298\n",
      " 11777.761298   19805.71886849 19805.71886849 18200.12735439\n",
      " 18200.12735439 19805.71886849 18200.12735439 18200.12735439\n",
      " 10974.96554095 18200.12735439 13383.3528121  18200.12735439\n",
      " 10974.96554095 18200.12735439 13383.3528121  18200.12735439\n",
      " 10974.96554095 19002.92311144  3749.80372751 14186.14856915\n",
      "  8566.5782698   8566.5782698   8566.5782698  14186.14856915\n",
      " 18200.12735439 18200.12735439 19805.71886849 19805.71886849\n",
      " 19805.71886849 19805.71886849 14988.9443262  14988.9443262\n",
      " 16594.53584029 16594.53584029 16594.53584029 16594.53584029\n",
      " 18200.12735439 18200.12735439  8566.5782698  12580.55705505\n",
      " 12580.55705505  7763.78251276 10974.96554095 12580.55705505\n",
      " 14186.14856915 14186.14856915 10974.96554095 13383.3528121\n",
      " 14988.9443262  14988.9443262   5355.39524161  8566.5782698\n",
      "  8566.5782698   8566.5782698  11777.761298   11777.761298\n",
      "  9369.37402685  9369.37402685  6158.19099866  2947.00797046\n",
      "  2947.00797046 10974.96554095 10974.96554095 10172.1697839\n",
      " 10172.1697839  12580.55705505 12580.55705505 14186.14856915\n",
      " 14186.14856915 14186.14856915 14186.14856915 14186.14856915\n",
      " 14186.14856915 10172.1697839   9369.37402685 11777.761298\n",
      " 11777.761298   11777.761298   17397.33159734 18200.12735439\n",
      " 17397.33159734 18200.12735439  3749.80372751 11777.761298\n",
      "  3749.80372751 11777.761298   11777.761298    3749.80372751\n",
      " 12580.55705505 14186.14856915 14186.14856915 18200.12735439\n",
      "  6960.98675571 13383.3528121  14988.9443262  14988.9443262\n",
      " 14186.14856915 14186.14856915 19805.71886849 19805.71886849\n",
      " 14988.9443262  18200.12735439 19002.92311144 12580.55705505\n",
      " 18200.12735439]\n"
     ]
    }
   ],
   "source": [
    "lr=LinearRegression()\n",
    "x=df_cleaned[['city-mpg']]\n",
    "y=df_cleaned['price']\n",
    "lr.fit(x,y)\n",
    "y_hat=lr.predict(x)\n",
    "print(lr.intercept_)#view the intercept 'c'\n",
    "print(lr.coef_)#view the slope 'm'\n",
    "print(y_hat)\n"
   ]
  },
  {
   "cell_type": "markdown",
   "id": "f3ef6606",
   "metadata": {},
   "source": [
    "so the line equation will be y=-802.79*x+33453.246"
   ]
  },
  {
   "cell_type": "markdown",
   "id": "602610ff",
   "metadata": {},
   "source": [
    "    NOW WE CAN ALSO FIT A MULTIPLE REGREESION BY THE SAME WAY BUT TAKING MULTIPLE VARIABLES INTO ACCOUNT \n",
    "    "
   ]
  },
  {
   "cell_type": "code",
   "execution_count": 32,
   "id": "fa9477ae",
   "metadata": {},
   "outputs": [
    {
     "name": "stdout",
     "output_type": "stream",
     "text": [
      "1225.5435019287706\n",
      "[  98.70890072 -279.41446943   15.97667576  129.37681422]\n",
      "[14346.63659989 14346.63659989 17961.92023824 10943.8167133\n",
      " 16287.74983326 15468.3319469  15468.3319469  15468.3319469\n",
      " 16500.40269418 16162.39836971 10979.16879204 10979.16879204\n",
      " 18625.80057154 18625.80057154 19365.33507912 26605.27674558\n",
      " 26605.27674558 27065.39678373  -285.23894059  5723.94012633\n",
      "  5723.94012633  6152.10681296  6398.09681697  9520.67175686\n",
      "  6398.09681697  6398.09681697  6398.09681697  9520.67175686\n",
      " 12402.0418376  18894.46635219  3803.21238982  6784.66385145\n",
      "  4420.44288177  7803.61282847  7803.61282847  7803.61282847\n",
      "  7803.61282847 10275.45000929 10275.45000929 10275.45000929\n",
      " 10275.45000929 11616.04579063 10860.53460729 11098.54459305\n",
      "  5723.94012633  5723.94012633 12325.27921588 33588.41509548\n",
      " 33588.41509548 44121.44371491  8384.6660165   6527.47363119\n",
      "  6527.47363119  6527.47363119  6527.47363119  7147.08326393\n",
      "  7147.08326393  7147.08326393  8885.3494811  11976.72399715\n",
      " 11976.72399715 11976.72399715 11976.72399715  9850.13479488\n",
      " 11976.72399715 15586.77702247 11875.16887629 22052.86570227\n",
      " 22052.86570227 22052.86570227 22052.86570227 30525.98473345\n",
      " 30525.98473345 40924.60372017 40407.09646328 17303.73759731\n",
      "  6410.86044141  6656.85044541  6656.85044541  9520.67175686\n",
      " 11198.15808738 11941.92179945 18894.46635219 18894.46635219\n",
      " 18894.46635219 11941.92179945 11941.92179945 11198.15808738\n",
      " 11198.15808738  7599.1256617   5901.24959386  7599.1256617\n",
      "  7599.1256617   7599.1256617   7599.1256617   7599.1256617\n",
      "  7599.1256617   7599.1256617   7599.1256617  11465.54711537\n",
      " 11465.54711537 22602.13457544 22602.13457544 21961.30896858\n",
      " 22089.12237462 23089.60054226 22089.12237462 13470.02060397\n",
      " 15951.77518909 13470.02060397 17890.96424241 13438.06725246\n",
      " 15951.77518909 13438.06725246 17890.96424241 13470.02060397\n",
      " 15951.77518909 15901.53751134  6152.10681296  9520.67175686\n",
      "  6398.09681697  6398.09681697  7433.11133074 12402.0418376\n",
      " 18894.46635219 17377.38552128 24324.50691856 24324.50691856\n",
      " 24324.50691856 25944.76557444 13577.40596924 13577.40596924\n",
      " 12886.85412671 12886.85412671 12886.85412671 12886.85412671\n",
      " 14047.09905191 14047.09905191  7878.54013114 10269.11963417\n",
      " 10269.11963417  9328.67630367 10051.49857854 10325.2153556\n",
      " 11891.97873113 11237.64445031 10330.91304797 10505.92092432\n",
      " 10675.61195269 12815.42236619  6676.41152431  6560.99039088\n",
      "  6560.99039088  6840.40486031  7842.64160461  7842.64160461\n",
      "  7645.77025096  7645.77025096  9648.86863334  6970.14507245\n",
      "  5641.29676237  8286.59585783  8286.59585783  8385.30475855\n",
      "  8385.30475855 10157.27078528 10157.27078528 15954.43230006\n",
      " 15954.43230006 15954.43230006 15954.43230006 15954.43230006\n",
      " 15954.43230006 11841.83516647 10363.87992662 12203.24630391\n",
      " 12203.24630391 12203.24630391 21189.45427831 21090.7453776\n",
      " 21109.57089954 19717.09385661  5405.04535327  9850.68204988\n",
      "  5405.04535327  9850.68204988  9850.68204988  6778.33004308\n",
      " 10550.45222436 11031.51107367 11031.51107367 15747.74641633\n",
      "  7501.15231795 10539.43768401 15735.71491559 15735.71491559\n",
      " 15834.42381631 15834.42381631 16163.68380771 16163.68380771\n",
      " 15735.71491559 16914.04980577 21098.83432936 16700.94993802\n",
      " 16179.12272103]\n"
     ]
    }
   ],
   "source": [
    "z=df_cleaned[['city-mpg','highway-mpg','horsepower','engine-size']]\n",
    "lr.fit(z,df_cleaned['price'])\n",
    "Yhat=lr.predict(z)\n",
    "print(lr.intercept_)\n",
    "print(lr.coef_)#we get an array of intercepts.\n",
    "print(Yhat)"
   ]
  },
  {
   "cell_type": "code",
   "execution_count": 33,
   "id": "195ad6c8",
   "metadata": {},
   "outputs": [
    {
     "data": {
      "text/plain": [
       "<AxesSubplot:xlabel='highway-mpg', ylabel='price'>"
      ]
     },
     "execution_count": 33,
     "metadata": {},
     "output_type": "execute_result"
    },
    {
     "data": {
      "image/png": "[encoded data removed]",
      "text/plain": [
       "<Figure size 432x288 with 1 Axes>"
      ]
     },
     "metadata": {
      "needs_background": "light"
     },
     "output_type": "display_data"
    }
   ],
   "source": [
    "# to create a residual plot \n",
    "sns.residplot(x=df['highway-mpg'],y=df['price'])"
   ]
  },
  {
   "cell_type": "code",
   "execution_count": 34,
   "id": "a36399e3",
   "metadata": {},
   "outputs": [
    {
     "name": "stderr",
     "output_type": "stream",
     "text": [
      "C:\\Users\\sitar\\anaconda3\\lib\\site-packages\\seaborn\\distributions.py:2619: FutureWarning: `distplot` is a deprecated function and will be removed in a future version. Please adapt your code to use either `displot` (a figure-level function with similar flexibility) or `kdeplot` (an axes-level function for kernel density plots).\n",
      "  warnings.warn(msg, FutureWarning)\n",
      "C:\\Users\\sitar\\anaconda3\\lib\\site-packages\\seaborn\\distributions.py:2619: FutureWarning: `distplot` is a deprecated function and will be removed in a future version. Please adapt your code to use either `displot` (a figure-level function with similar flexibility) or `histplot` (an axes-level function for histograms).\n",
      "  warnings.warn(msg, FutureWarning)\n"
     ]
    },
    {
     "data": {
      "text/plain": [
       "<AxesSubplot:xlabel='price', ylabel='Density'>"
      ]
     },
     "execution_count": 34,
     "metadata": {},
     "output_type": "execute_result"
    },
    {
     "data": {
      "image/png": "[encoded data removed]",
      "text/plain": [
       "<Figure size 432x288 with 1 Axes>"
      ]
     },
     "metadata": {
      "needs_background": "light"
     },
     "output_type": "display_data"
    }
   ],
   "source": [
    "ax1=sns.distplot(df_cleaned['price'],hist=False,color='r',label=\"Actual value\")\n",
    "sns.distplot(Yhat,label='Fitted value',ax=ax1)"
   ]
  },
  {
   "cell_type": "code",
   "execution_count": 35,
   "id": "1d17d445",
   "metadata": {},
   "outputs": [
    {
     "name": "stdout",
     "output_type": "stream",
     "text": [
      "Requirement already satisfied: numpy in c:\\users\\sitar\\anaconda3\\lib\\site-packages (1.26.4)\n",
      "Note: you may need to restart the kernel to use updated packages.\n"
     ]
    }
   ],
   "source": [
    "pip install --upgrade numpy"
   ]
  },
  {
   "cell_type": "code",
   "execution_count": 37,
   "id": "a17b8436",
   "metadata": {},
   "outputs": [
    {
     "name": "stdout",
     "output_type": "stream",
     "text": [
      "     3       2\n",
      "nan x + nan x + nan x + nan\n"
     ]
    }
   ],
   "source": [
    "#from numpy import polyld\n",
    "x=df['city-mpg']\n",
    "y=df['price']\n",
    "y_=np.polyfit(x,y,3)\n",
    "p=np.poly1d(y_)\n",
    "print(p)"
   ]
  },
  {
   "cell_type": "code",
   "execution_count": 43,
   "id": "10455c24",
   "metadata": {},
   "outputs": [],
   "source": [
    "from sklearn.preprocessing import PolynomialFeatures,StandardScaler\n",
    "pr=PolynomialFeatures(degree=2,include_bias=False)\n",
    "x_polly=pr.fit_transform(df_cleaned[['horsepower','city-mpg']])"
   ]
  },
  {
   "cell_type": "markdown",
   "id": "ddf3c0fd",
   "metadata": {},
   "source": [
    "# PIPELINING"
   ]
  },
  {
   "cell_type": "code",
   "execution_count": 49,
   "id": "42159517",
   "metadata": {},
   "outputs": [
    {
     "ename": "AttributeError",
     "evalue": "'DataFrame' object has no attribute 'fit'",
     "output_type": "error",
     "traceback": [
      "\u001b[1;31m---------------------------------------------------------------------------\u001b[0m",
      "\u001b[1;31mAttributeError\u001b[0m                            Traceback (most recent call last)",
      "Input \u001b[1;32mIn [49]\u001b[0m, in \u001b[0;36m<cell line: 4>\u001b[1;34m()\u001b[0m\n\u001b[0;32m      2\u001b[0m Input\u001b[38;5;241m=\u001b[39m[(\u001b[38;5;124m'\u001b[39m\u001b[38;5;124mscale\u001b[39m\u001b[38;5;124m'\u001b[39m,StandardScaler),(\u001b[38;5;124m'\u001b[39m\u001b[38;5;124mpolynomial\u001b[39m\u001b[38;5;124m'\u001b[39m, PolynomialFeatures(degree\u001b[38;5;241m=\u001b[39m\u001b[38;5;241m2\u001b[39m)),(\u001b[38;5;124m'\u001b[39m\u001b[38;5;124mmodel\u001b[39m\u001b[38;5;124m'\u001b[39m,LinearRegression())]\n\u001b[0;32m      3\u001b[0m pipe\u001b[38;5;241m=\u001b[39mPipeline(Input)\n\u001b[1;32m----> 4\u001b[0m \u001b[43mpipe\u001b[49m\u001b[38;5;241;43m.\u001b[39;49m\u001b[43mfit\u001b[49m\u001b[43m(\u001b[49m\u001b[43mdf_cleaned\u001b[49m\u001b[43m[\u001b[49m\u001b[43m[\u001b[49m\u001b[38;5;124;43m'\u001b[39;49m\u001b[38;5;124;43mhorsepower\u001b[39;49m\u001b[38;5;124;43m'\u001b[39;49m\u001b[43m,\u001b[49m\u001b[38;5;124;43m'\u001b[39;49m\u001b[38;5;124;43mhighway-mpg\u001b[39;49m\u001b[38;5;124;43m'\u001b[39;49m\u001b[43m,\u001b[49m\u001b[38;5;124;43m'\u001b[39;49m\u001b[38;5;124;43mengine-size\u001b[39;49m\u001b[38;5;124;43m'\u001b[39;49m\u001b[43m,\u001b[49m\u001b[38;5;124;43m'\u001b[39;49m\u001b[38;5;124;43mcity-mpg\u001b[39;49m\u001b[38;5;124;43m'\u001b[39;49m\u001b[43m]\u001b[49m\u001b[43m]\u001b[49m\u001b[43m,\u001b[49m\u001b[43mdf_cleaned\u001b[49m\u001b[43m[\u001b[49m\u001b[38;5;124;43m'\u001b[39;49m\u001b[38;5;124;43mprice\u001b[39;49m\u001b[38;5;124;43m'\u001b[39;49m\u001b[43m]\u001b[49m\u001b[43m)\u001b[49m\n",
      "File \u001b[1;32m~\\anaconda3\\lib\\site-packages\\sklearn\\pipeline.py:390\u001b[0m, in \u001b[0;36mPipeline.fit\u001b[1;34m(self, X, y, **fit_params)\u001b[0m\n\u001b[0;32m    364\u001b[0m \u001b[38;5;250m\u001b[39m\u001b[38;5;124;03m\"\"\"Fit the model.\u001b[39;00m\n\u001b[0;32m    365\u001b[0m \n\u001b[0;32m    366\u001b[0m \u001b[38;5;124;03mFit all the transformers one after the other and transform the\u001b[39;00m\n\u001b[1;32m   (...)\u001b[0m\n\u001b[0;32m    387\u001b[0m \u001b[38;5;124;03m    Pipeline with fitted steps.\u001b[39;00m\n\u001b[0;32m    388\u001b[0m \u001b[38;5;124;03m\"\"\"\u001b[39;00m\n\u001b[0;32m    389\u001b[0m fit_params_steps \u001b[38;5;241m=\u001b[39m \u001b[38;5;28mself\u001b[39m\u001b[38;5;241m.\u001b[39m_check_fit_params(\u001b[38;5;241m*\u001b[39m\u001b[38;5;241m*\u001b[39mfit_params)\n\u001b[1;32m--> 390\u001b[0m Xt \u001b[38;5;241m=\u001b[39m \u001b[38;5;28mself\u001b[39m\u001b[38;5;241m.\u001b[39m_fit(X, y, \u001b[38;5;241m*\u001b[39m\u001b[38;5;241m*\u001b[39mfit_params_steps)\n\u001b[0;32m    391\u001b[0m \u001b[38;5;28;01mwith\u001b[39;00m _print_elapsed_time(\u001b[38;5;124m\"\u001b[39m\u001b[38;5;124mPipeline\u001b[39m\u001b[38;5;124m\"\u001b[39m, \u001b[38;5;28mself\u001b[39m\u001b[38;5;241m.\u001b[39m_log_message(\u001b[38;5;28mlen\u001b[39m(\u001b[38;5;28mself\u001b[39m\u001b[38;5;241m.\u001b[39msteps) \u001b[38;5;241m-\u001b[39m \u001b[38;5;241m1\u001b[39m)):\n\u001b[0;32m    392\u001b[0m     \u001b[38;5;28;01mif\u001b[39;00m \u001b[38;5;28mself\u001b[39m\u001b[38;5;241m.\u001b[39m_final_estimator \u001b[38;5;241m!=\u001b[39m \u001b[38;5;124m\"\u001b[39m\u001b[38;5;124mpassthrough\u001b[39m\u001b[38;5;124m\"\u001b[39m:\n",
      "File \u001b[1;32m~\\anaconda3\\lib\\site-packages\\sklearn\\pipeline.py:348\u001b[0m, in \u001b[0;36mPipeline._fit\u001b[1;34m(self, X, y, **fit_params_steps)\u001b[0m\n\u001b[0;32m    346\u001b[0m     cloned_transformer \u001b[38;5;241m=\u001b[39m clone(transformer)\n\u001b[0;32m    347\u001b[0m \u001b[38;5;66;03m# Fit or load from cache the current transformer\u001b[39;00m\n\u001b[1;32m--> 348\u001b[0m X, fitted_transformer \u001b[38;5;241m=\u001b[39m fit_transform_one_cached(\n\u001b[0;32m    349\u001b[0m     cloned_transformer,\n\u001b[0;32m    350\u001b[0m     X,\n\u001b[0;32m    351\u001b[0m     y,\n\u001b[0;32m    352\u001b[0m     \u001b[38;5;28;01mNone\u001b[39;00m,\n\u001b[0;32m    353\u001b[0m     message_clsname\u001b[38;5;241m=\u001b[39m\u001b[38;5;124m\"\u001b[39m\u001b[38;5;124mPipeline\u001b[39m\u001b[38;5;124m\"\u001b[39m,\n\u001b[0;32m    354\u001b[0m     message\u001b[38;5;241m=\u001b[39m\u001b[38;5;28mself\u001b[39m\u001b[38;5;241m.\u001b[39m_log_message(step_idx),\n\u001b[0;32m    355\u001b[0m     \u001b[38;5;241m*\u001b[39m\u001b[38;5;241m*\u001b[39mfit_params_steps[name],\n\u001b[0;32m    356\u001b[0m )\n\u001b[0;32m    357\u001b[0m \u001b[38;5;66;03m# Replace the transformer of the step with the fitted\u001b[39;00m\n\u001b[0;32m    358\u001b[0m \u001b[38;5;66;03m# transformer. This is necessary when loading the transformer\u001b[39;00m\n\u001b[0;32m    359\u001b[0m \u001b[38;5;66;03m# from the cache.\u001b[39;00m\n\u001b[0;32m    360\u001b[0m \u001b[38;5;28mself\u001b[39m\u001b[38;5;241m.\u001b[39msteps[step_idx] \u001b[38;5;241m=\u001b[39m (name, fitted_transformer)\n",
      "File \u001b[1;32m~\\anaconda3\\lib\\site-packages\\joblib\\memory.py:349\u001b[0m, in \u001b[0;36mNotMemorizedFunc.__call__\u001b[1;34m(self, *args, **kwargs)\u001b[0m\n\u001b[0;32m    348\u001b[0m \u001b[38;5;28;01mdef\u001b[39;00m \u001b[38;5;21m__call__\u001b[39m(\u001b[38;5;28mself\u001b[39m, \u001b[38;5;241m*\u001b[39margs, \u001b[38;5;241m*\u001b[39m\u001b[38;5;241m*\u001b[39mkwargs):\n\u001b[1;32m--> 349\u001b[0m     \u001b[38;5;28;01mreturn\u001b[39;00m \u001b[38;5;28mself\u001b[39m\u001b[38;5;241m.\u001b[39mfunc(\u001b[38;5;241m*\u001b[39margs, \u001b[38;5;241m*\u001b[39m\u001b[38;5;241m*\u001b[39mkwargs)\n",
      "File \u001b[1;32m~\\anaconda3\\lib\\site-packages\\sklearn\\pipeline.py:893\u001b[0m, in \u001b[0;36m_fit_transform_one\u001b[1;34m(transformer, X, y, weight, message_clsname, message, **fit_params)\u001b[0m\n\u001b[0;32m    891\u001b[0m \u001b[38;5;28;01mwith\u001b[39;00m _print_elapsed_time(message_clsname, message):\n\u001b[0;32m    892\u001b[0m     \u001b[38;5;28;01mif\u001b[39;00m \u001b[38;5;28mhasattr\u001b[39m(transformer, \u001b[38;5;124m\"\u001b[39m\u001b[38;5;124mfit_transform\u001b[39m\u001b[38;5;124m\"\u001b[39m):\n\u001b[1;32m--> 893\u001b[0m         res \u001b[38;5;241m=\u001b[39m transformer\u001b[38;5;241m.\u001b[39mfit_transform(X, y, \u001b[38;5;241m*\u001b[39m\u001b[38;5;241m*\u001b[39mfit_params)\n\u001b[0;32m    894\u001b[0m     \u001b[38;5;28;01melse\u001b[39;00m:\n\u001b[0;32m    895\u001b[0m         res \u001b[38;5;241m=\u001b[39m transformer\u001b[38;5;241m.\u001b[39mfit(X, y, \u001b[38;5;241m*\u001b[39m\u001b[38;5;241m*\u001b[39mfit_params)\u001b[38;5;241m.\u001b[39mtransform(X)\n",
      "File \u001b[1;32m~\\anaconda3\\lib\\site-packages\\sklearn\\base.py:852\u001b[0m, in \u001b[0;36mTransformerMixin.fit_transform\u001b[1;34m(self, X, y, **fit_params)\u001b[0m\n\u001b[0;32m    848\u001b[0m \u001b[38;5;66;03m# non-optimized default implementation; override when a better\u001b[39;00m\n\u001b[0;32m    849\u001b[0m \u001b[38;5;66;03m# method is possible for a given clustering algorithm\u001b[39;00m\n\u001b[0;32m    850\u001b[0m \u001b[38;5;28;01mif\u001b[39;00m y \u001b[38;5;129;01mis\u001b[39;00m \u001b[38;5;28;01mNone\u001b[39;00m:\n\u001b[0;32m    851\u001b[0m     \u001b[38;5;66;03m# fit method of arity 1 (unsupervised transformation)\u001b[39;00m\n\u001b[1;32m--> 852\u001b[0m     \u001b[38;5;28;01mreturn\u001b[39;00m \u001b[38;5;28;43mself\u001b[39;49m\u001b[38;5;241;43m.\u001b[39;49m\u001b[43mfit\u001b[49m(X, \u001b[38;5;241m*\u001b[39m\u001b[38;5;241m*\u001b[39mfit_params)\u001b[38;5;241m.\u001b[39mtransform(X)\n\u001b[0;32m    853\u001b[0m \u001b[38;5;28;01melse\u001b[39;00m:\n\u001b[0;32m    854\u001b[0m     \u001b[38;5;66;03m# fit method of arity 2 (supervised transformation)\u001b[39;00m\n\u001b[0;32m    855\u001b[0m     \u001b[38;5;28;01mreturn\u001b[39;00m \u001b[38;5;28mself\u001b[39m\u001b[38;5;241m.\u001b[39mfit(X, y, \u001b[38;5;241m*\u001b[39m\u001b[38;5;241m*\u001b[39mfit_params)\u001b[38;5;241m.\u001b[39mtransform(X)\n",
      "File \u001b[1;32m~\\anaconda3\\lib\\site-packages\\pandas\\core\\generic.py:5575\u001b[0m, in \u001b[0;36mNDFrame.__getattr__\u001b[1;34m(self, name)\u001b[0m\n\u001b[0;32m   5568\u001b[0m \u001b[38;5;28;01mif\u001b[39;00m (\n\u001b[0;32m   5569\u001b[0m     name \u001b[38;5;129;01mnot\u001b[39;00m \u001b[38;5;129;01min\u001b[39;00m \u001b[38;5;28mself\u001b[39m\u001b[38;5;241m.\u001b[39m_internal_names_set\n\u001b[0;32m   5570\u001b[0m     \u001b[38;5;129;01mand\u001b[39;00m name \u001b[38;5;129;01mnot\u001b[39;00m \u001b[38;5;129;01min\u001b[39;00m \u001b[38;5;28mself\u001b[39m\u001b[38;5;241m.\u001b[39m_metadata\n\u001b[0;32m   5571\u001b[0m     \u001b[38;5;129;01mand\u001b[39;00m name \u001b[38;5;129;01mnot\u001b[39;00m \u001b[38;5;129;01min\u001b[39;00m \u001b[38;5;28mself\u001b[39m\u001b[38;5;241m.\u001b[39m_accessors\n\u001b[0;32m   5572\u001b[0m     \u001b[38;5;129;01mand\u001b[39;00m \u001b[38;5;28mself\u001b[39m\u001b[38;5;241m.\u001b[39m_info_axis\u001b[38;5;241m.\u001b[39m_can_hold_identifiers_and_holds_name(name)\n\u001b[0;32m   5573\u001b[0m ):\n\u001b[0;32m   5574\u001b[0m     \u001b[38;5;28;01mreturn\u001b[39;00m \u001b[38;5;28mself\u001b[39m[name]\n\u001b[1;32m-> 5575\u001b[0m \u001b[38;5;28;01mreturn\u001b[39;00m \u001b[38;5;28;43mobject\u001b[39;49m\u001b[38;5;241;43m.\u001b[39;49m\u001b[38;5;21;43m__getattribute__\u001b[39;49m\u001b[43m(\u001b[49m\u001b[38;5;28;43mself\u001b[39;49m\u001b[43m,\u001b[49m\u001b[43m \u001b[49m\u001b[43mname\u001b[49m\u001b[43m)\u001b[49m\n",
      "\u001b[1;31mAttributeError\u001b[0m: 'DataFrame' object has no attribute 'fit'"
     ]
    }
   ],
   "source": [
    "from sklearn.pipeline import Pipeline\n",
    "Input=[('scale',StandardScaler),('polynomial', PolynomialFeatures(degree=2)),('model',LinearRegression())]\n",
    "pipe=Pipeline(Input)\n",
    "pipe.fit(df_cleaned[['horsepower','highway-mpg','engine-size','city-mpg']],df_cleaned['price'])\n"
   ]
  }
 ],
 "metadata": {
  "kernelspec": {
   "display_name": "Python 3 (ipykernel)",
   "language": "python",
   "name": "python3"
  },
  "language_info": {
   "codemirror_mode": {
    "name": "ipython",
    "version": 3
   },
   "file_extension": ".py",
   "mimetype": "text/x-python",
   "name": "python",
   "nbconvert_exporter": "python",
   "pygments_lexer": "ipython3",
   "version": "3.9.12"
  }
 },
 "nbformat": 4,
 "nbformat_minor": 5
}
